{
 "cells": [
  {
   "cell_type": "markdown",
   "metadata": {},
   "source": [
    "### Pengolahan Data dengan Pandas\n",
    "### Dipersiapkan oleh Ridowati G\n",
    "### LAST UPDATE : 14 Mei 2023\n",
    "### 5. Manipulating Data\n",
    "#### 5.5. Sorting\n",
    "        \n",
    "        1. DataFrame.sort_values() Single Parameter Sorting :\n",
    "            DataFrame.sort_values(by, axis=0, ascending=True, inplace=False, kind=’quicksort’, na_position=’last’)\n",
    "        2. DataFrame.sort_values() Multiple Parameter Sorting :\n",
    "           Gunakan list untuk 'by'\n",
    "            DataFrame.sort_values([\"\",\"\"], axis=0, ascending=True, inplace=False, kind=’quicksort’, na_position=’last’)\n",
    "        "
   ]
  },
  {
   "cell_type": "code",
   "execution_count": null,
   "metadata": {},
   "outputs": [],
   "source": [
    "import pandas as pd"
   ]
  },
  {
   "cell_type": "code",
   "execution_count": null,
   "metadata": {},
   "outputs": [],
   "source": [
    "## 5.5.1. Single parameter\n",
    "# importing pandas as pd\n",
    "import pandas as pd\n",
    "\n",
    "data=pd.read_csv(\"datapeminjaman.csv\",sep=\";\")\n",
    "\n",
    "data"
   ]
  },
  {
   "cell_type": "code",
   "execution_count": null,
   "metadata": {},
   "outputs": [],
   "source": [
    "## Sorting single parameter\n",
    "data.sort_values(\"Customer\", axis = 0, ascending = True,\n",
    "                 inplace = True, na_position ='last')\n",
    "\n",
    "data"
   ]
  },
  {
   "cell_type": "code",
   "execution_count": null,
   "metadata": {},
   "outputs": [],
   "source": [
    "## Sorting multi parameter\n",
    "\n",
    "# Sorting berdasarkan CC dan usia\n",
    "data.sort_values([\"CC\",\"Usia\"], axis = 0, ascending = True,\n",
    "                 inplace = True, na_position ='last')\n",
    "data\n",
    "\n"
   ]
  },
  {
   "cell_type": "code",
   "execution_count": null,
   "metadata": {},
   "outputs": [],
   "source": [
    "## Sorting multi parameter\n",
    "\n",
    "# Sorting berdasarkan CC dan usia. CC urut naik, usia urut turun\n",
    "\n",
    "\n",
    "\n"
   ]
  }
 ],
 "metadata": {
  "kernelspec": {
   "display_name": "Python 3 (ipykernel)",
   "language": "python",
   "name": "python3"
  },
  "language_info": {
   "codemirror_mode": {
    "name": "ipython",
    "version": 3
   },
   "file_extension": ".py",
   "mimetype": "text/x-python",
   "name": "python",
   "nbconvert_exporter": "python",
   "pygments_lexer": "ipython3",
   "version": "3.9.12"
  }
 },
 "nbformat": 4,
 "nbformat_minor": 2
}

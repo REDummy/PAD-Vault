{
 "cells": [
  {
   "cell_type": "markdown",
   "metadata": {},
   "source": [
    "### Pengolahan Data dengan Pandas\n",
    "### Dipersiapkan oleh Ridowati G\n",
    "### LAST UPDATE : 14 Mei 2023\n",
    "### 6. Pengelompokan\n",
    "#### 6.1. Group By\n",
    "        Langkah:\n",
    "        1. Splitting\n",
    "        2. Applying\n",
    "        3. Combining\n",
    "            "
   ]
  },
  {
   "cell_type": "code",
   "execution_count": null,
   "metadata": {},
   "outputs": [],
   "source": [
    "import pandas as pd\n",
    "import numpy as np"
   ]
  },
  {
   "cell_type": "code",
   "execution_count": null,
   "metadata": {},
   "outputs": [],
   "source": [
    "## 5.5.1. Single parameter\n",
    "# importing pandas as pd\n",
    "import pandas as pd\n",
    "\n",
    "data=pd.read_csv(\"datapeminjaman.csv\",sep=\";\")\n",
    "\n",
    "df=pd.DataFrame(data)\n",
    "print(df)"
   ]
  },
  {
   "cell_type": "code",
   "execution_count": null,
   "metadata": {},
   "outputs": [],
   "source": [
    "## Group by  berdasarkan Customer\n",
    "\n",
    "\n",
    "df.groupby('Kelas')\n",
    "print(df.groupby('Kelas').groups)"
   ]
  },
  {
   "cell_type": "code",
   "execution_count": null,
   "metadata": {},
   "outputs": [],
   "source": [
    "# applying groupby() function to\n",
    "# group the data on Kelas value.\n",
    "gk = df.groupby('Kelas')\n",
    "   \n",
    "# Let's print the first entries\n",
    "# in all the groups formed.\n",
    "gk.first()\n"
   ]
  },
  {
   "cell_type": "code",
   "execution_count": null,
   "metadata": {},
   "outputs": [],
   "source": [
    "gk=df.groupby(['Kelas', 'CC'])\n",
    "\n",
    "print(gk.groups)\n",
    "#print(df.groupby(['Customer', 'CC']).groups)\n",
    "\n",
    "print(gk.first())\n",
    "\n",
    "gk.aggregate(np.sum)"
   ]
  },
  {
   "cell_type": "code",
   "execution_count": null,
   "metadata": {},
   "outputs": [],
   "source": [
    "gk=df.groupby(['Kelas'])\n",
    "\n",
    "gk['Pendapatan'].agg([np.sum,np.mean,np.std])\n",
    "\n"
   ]
  },
  {
   "cell_type": "code",
   "execution_count": null,
   "metadata": {},
   "outputs": [],
   "source": [
    "gk=df.groupby(['Kelas'])\n",
    "\n",
    "gk.agg({'Pendapatan' : 'sum', 'Usia' : 'std'})\n",
    "\n"
   ]
  },
  {
   "cell_type": "code",
   "execution_count": null,
   "metadata": {},
   "outputs": [],
   "source": []
  }
 ],
 "metadata": {
  "kernelspec": {
   "display_name": "Python 3 (ipykernel)",
   "language": "python",
   "name": "python3"
  },
  "language_info": {
   "codemirror_mode": {
    "name": "ipython",
    "version": 3
   },
   "file_extension": ".py",
   "mimetype": "text/x-python",
   "name": "python",
   "nbconvert_exporter": "python",
   "pygments_lexer": "ipython3",
   "version": "3.7.3"
  }
 },
 "nbformat": 4,
 "nbformat_minor": 2
}

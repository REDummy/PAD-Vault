{
 "cells": [
  {
   "cell_type": "markdown",
   "metadata": {},
   "source": [
    "### Pengolahan Data dengan Pandas\n",
    "### Dipersiapkan oleh Ridowati G\n",
    "### LAST UPDATE : 14 Mei 2023\n",
    "### 5. Manipulating Data\n",
    "#### 5.4. Missing Value\n",
    "        Missing Value pada Pandas ditandai dengan dua nilai  yaitu :\n",
    "        1. None \n",
    "        2. NaN (Not a Number)\n",
    "\n",
    "        Fungsi yang digunakan untuk detecting, removing, replacing null value pada Pandas DataFrame :\n",
    "        1. isnull()\n",
    "        2. notnull()\n",
    "        3. dropna()\n",
    "        4. fillna()\n",
    "        5. replace()\n",
    "        6. interpolate()\n",
    "        "
   ]
  },
  {
   "cell_type": "code",
   "execution_count": null,
   "metadata": {},
   "outputs": [],
   "source": [
    "import pandas as pd"
   ]
  },
  {
   "cell_type": "code",
   "execution_count": null,
   "metadata": {},
   "outputs": [],
   "source": [
    "## 5.4.1. Menggunakan isnull()\n",
    "\n",
    "# importing pandas as pd\n",
    "import pandas as pd\n",
    "  \n",
    "# importing numpy as np\n",
    "import numpy as np\n",
    "  \n",
    "# dictionary of lists\n",
    "dict = {'First Score':[100, 90, np.nan, 95],\n",
    "        'Second Score': [30, 45, 56, np.nan],\n",
    "        'Third Score':[np.nan, 40, 80, 98]}\n",
    "  \n",
    "# creating a dataframe from list\n",
    "df = pd.DataFrame(dict)\n",
    "  \n",
    "# using isnull() function  \n",
    "df.isnull()\n"
   ]
  },
  {
   "cell_type": "code",
   "execution_count": null,
   "metadata": {},
   "outputs": [],
   "source": [
    "## 5.4.2. Menggunakan notnull()\n",
    "\n",
    "# importing pandas as pd\n",
    "import pandas as pd\n",
    "  \n",
    "# importing numpy as np\n",
    "import numpy as np\n",
    "  \n",
    "# dictionary of lists\n",
    "dict = {'First Score':[100, 90, np.nan, 95],\n",
    "        'Second Score': [30, 45, 56, np.nan],\n",
    "        'Third Score':[np.nan, 40, 80, 98]}\n",
    "  \n",
    "# creating a dataframe from list\n",
    "df = pd.DataFrame(dict)\n",
    "  \n",
    "# using isnull() function  \n",
    "df.notnull()\n"
   ]
  },
  {
   "cell_type": "code",
   "execution_count": null,
   "metadata": {},
   "outputs": [],
   "source": [
    "## 5.4.3. Mengisi data missing value dengan fillna()\n",
    "\n",
    "# importing pandas as pd\n",
    "import pandas as pd\n",
    "  \n",
    "# importing numpy as np\n",
    "import numpy as np\n",
    "  \n",
    "# dictionary of lists\n",
    "dict = {'First Score':[100, 90, np.nan, 95],\n",
    "        'Second Score': [30, 45, 56, np.nan],\n",
    "        'Third Score':[np.nan, 40, 80, 98]}\n",
    "  \n",
    "# creating a dataframe from dictionary\n",
    "df = pd.DataFrame(dict)\n",
    "  \n",
    "# filling missing value using fillna()  \n",
    "#df.fillna(0)\n",
    "\n",
    "#filling missing value dengan nilai yang sebelumnya (previous one)\n",
    "#df.fillna(method='pad')\n",
    "\n",
    "#filling missing value dengan nilai yang setelahnya (next one)\n",
    "df.fillna(method='bfill')\n"
   ]
  },
  {
   "cell_type": "code",
   "execution_count": null,
   "metadata": {},
   "outputs": [],
   "source": [
    "## 5.4.4. Mengisi data missing value dengan interpolate() --> linear method\n",
    "\n",
    "# importing pandas as pd \n",
    "import pandas as pd \n",
    "    \n",
    "# Creating the dataframe  \n",
    "df = pd.DataFrame({\"A\":[12, 4, 5, None, 1], \n",
    "                   \"B\":[None, 2, 54, 3, None], \n",
    "                   \"C\":[20, 16, None, 3, 8], \n",
    "                   \"D\":[14, 3, None, None, 6]}) \n",
    "    \n",
    "# Print the dataframe \n",
    "df "
   ]
  },
  {
   "cell_type": "code",
   "execution_count": null,
   "metadata": {},
   "outputs": [],
   "source": [
    "# to interpolate the missing values \n",
    "df.interpolate(method ='linear', limit_direction ='forward')"
   ]
  },
  {
   "cell_type": "code",
   "execution_count": null,
   "metadata": {},
   "outputs": [],
   "source": [
    "#5.4.5. Dropping missing value mengguna dropna()\n",
    "# importing pandas as pd\n",
    "import pandas as pd\n",
    "  \n",
    "# importing numpy as np\n",
    "import numpy as np\n",
    "  \n",
    "# dictionary of lists\n",
    "dict = {'First Score':[100, 90, np.nan, 95],\n",
    "        'Second Score': [30, np.nan, 45, 56],\n",
    "        'Third Score':[52, 40, 80, 98],\n",
    "        'Fourth Score':[np.nan, np.nan, np.nan, 65]}\n",
    "  \n",
    "# creating a dataframe from dictionary\n",
    "df = pd.DataFrame(dict)\n",
    "    \n",
    "df"
   ]
  },
  {
   "cell_type": "code",
   "execution_count": null,
   "metadata": {},
   "outputs": [],
   "source": [
    "# using dropna() function  \n",
    "df.dropna()"
   ]
  },
  {
   "cell_type": "code",
   "execution_count": null,
   "metadata": {},
   "outputs": [],
   "source": [
    "## dropna() untuk yang seluruh barisnya Null\n",
    "# importing pandas as pd\n",
    "import pandas as pd\n",
    "  \n",
    "# importing numpy as np\n",
    "import numpy as np\n",
    "  \n",
    "# dictionary of lists\n",
    "dict = {'First Score':[100, np.nan, np.nan, 95],\n",
    "        'Second Score': [30, np.nan, 45, 56],\n",
    "        'Third Score':[52, np.nan, 80, 98],\n",
    "        'Fourth Score':[np.nan, np.nan, np.nan, 65]}\n",
    "  \n",
    "df = pd.DataFrame(dict)\n",
    "df \n"
   ]
  },
  {
   "cell_type": "code",
   "execution_count": null,
   "metadata": {},
   "outputs": [],
   "source": [
    "# using dropna() function    \n",
    "df.dropna(how = 'all')"
   ]
  },
  {
   "cell_type": "code",
   "execution_count": null,
   "metadata": {},
   "outputs": [],
   "source": [
    "# drop Na yang kolomnya null\n",
    "# importing pandas as pd\n",
    "import numpy as np\n",
    "   \n",
    "# dictionary of lists\n",
    "dict = {'First Score':[100, np.nan, np.nan, 95],\n",
    "        'Second Score': [30, np.nan, 45, 56],\n",
    "        'Third Score':[52, np.nan, 80, 98],\n",
    "        'Fourth Score':[60, 67, 68, 65]}\n",
    "  \n",
    "# creating a dataframe from dictionary \n",
    "df = pd.DataFrame(dict)\n",
    "     \n",
    "df\n",
    "  \n",
    "# Print the DataFrame\n",
    "print(df)"
   ]
  },
  {
   "cell_type": "code",
   "execution_count": null,
   "metadata": {},
   "outputs": [],
   "source": [
    "# Yang kolomnya mengandung null\n",
    "df.dropna(axis=1)"
   ]
  }
 ],
 "metadata": {
  "kernelspec": {
   "display_name": "Python 3 (ipykernel)",
   "language": "python",
   "name": "python3"
  },
  "language_info": {
   "codemirror_mode": {
    "name": "ipython",
    "version": 3
   },
   "file_extension": ".py",
   "mimetype": "text/x-python",
   "name": "python",
   "nbconvert_exporter": "python",
   "pygments_lexer": "ipython3",
   "version": "3.7.3"
  }
 },
 "nbformat": 4,
 "nbformat_minor": 2
}

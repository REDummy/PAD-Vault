{
 "cells": [
  {
   "cell_type": "markdown",
   "metadata": {},
   "source": [
    "### Pengolahan Data dengan Pandas\n",
    "### Dipersiapkan oleh Ridowati G\n",
    "### LAST UPDATE : 14 Mei 2023\n",
    "### 5. Manipulating Data\n",
    "#### 5.1. Menambah Kolom Baru\n",
    "        5.1.1. Menambah sebuah deklarasi list baru sebagai sebuah kolom\n",
    "        5.1.2. Menggunakan DataFrame.insert()\n",
    "        5.1.3. Menggunakan DataFrame.assign()\n",
    "        5.1.4. Menggunakan Dictionary\n",
    "#### 5.2. Delete rows/column from DataFrame\n",
    "        Menggunakan Pandas DataFrame.drop()\n",
    "        Syntax :\n",
    "        DataFrame.drop(labels=None, axis=0, index=None, columns=None, level=None, inplace=False, errors=’raise’)\n",
    "        axis=0 --> row, axis=1=column\n",
    "        \n",
    "        5.2.1. Dropping Rows by index label\n",
    "        5.2.2. Dropping column\n",
    "#### 5.3. Truncate data \n",
    "        Menggunakan Pandas DataFrame.truncate()\n",
    "        Syntax: DataFrame.truncate(before=None, after=None, axis=None, copy=True)\n",
    "        \n",
    "        Untuk Series Menggunakan Pandas Series.truncate()\n",
    "        Syntax: Series.truncate(before=None, after=None, axis=None, copy=True)"
   ]
  },
  {
   "cell_type": "code",
   "execution_count": null,
   "metadata": {},
   "outputs": [],
   "source": [
    "import pandas as pd"
   ]
  },
  {
   "cell_type": "code",
   "execution_count": null,
   "metadata": {},
   "outputs": [],
   "source": [
    "# 5.1. Menambah sebuah deklarasi list baru \n",
    "\n",
    "data={'Prodi':['Informatika','Teknik Elektro','Teknik Mesin','Matematika'],\n",
    "      'Jumlah Mahasiswa':[1000,600,300,100]}\n",
    "df=pd.DataFrame(data)\n",
    "\n",
    "df\n"
   ]
  },
  {
   "cell_type": "code",
   "execution_count": null,
   "metadata": {},
   "outputs": [],
   "source": [
    "gelar=['S.Kom.','S.T','S.T.','S.Si.']\n",
    "df['Gelar']=gelar\n",
    "df"
   ]
  },
  {
   "cell_type": "code",
   "execution_count": null,
   "metadata": {},
   "outputs": [],
   "source": [
    "# 5.2. Menggunakan DataFrame.insert()\n",
    "## Lebih bebas untuk menambahkan column tidak harus di akhir. \n",
    "## posisi,nama column, isi,True/False (True=tidak boleh ada nama column yang sama )\n",
    "\n",
    "akreditasi=['B','B','B','A']\n",
    "df.insert(1,'Akreditasi',akreditasi,True)\n",
    "df"
   ]
  },
  {
   "cell_type": "code",
   "execution_count": null,
   "metadata": {},
   "outputs": [],
   "source": [
    "#5.3. DataFrame.assign()\n",
    "df2=df.assign(Singkatanprodi=['Inf.','TE','TM','Mat'])\n",
    "df2\n"
   ]
  },
  {
   "cell_type": "code",
   "execution_count": null,
   "metadata": {},
   "outputs": [],
   "source": [
    "## 5.4. Menggunakan Dictionary\n",
    "singkatan={'Inf':'Informatika','TE':'Teknik Elektro','TM':'Teknik Mesin','Mat':'Matematika'}\n",
    "df['Singkatan']=singkatan\n",
    "df\n"
   ]
  },
  {
   "cell_type": "code",
   "execution_count": null,
   "metadata": {},
   "outputs": [],
   "source": [
    "#5.2.1. Dropping Row by Column Index\n",
    "#i = df[(df.Prodi == 'Matematika')].index\n",
    "#i\n",
    "df.drop(df[(df.Prodi == 'Matematika')].index,axis=0,inplace=True)\n",
    "\n",
    "df"
   ]
  },
  {
   "cell_type": "code",
   "execution_count": null,
   "metadata": {},
   "outputs": [],
   "source": [
    "#5.2.2. Dropping Column by Column Index\n",
    "\n",
    "df.drop(['Gelar'],axis=1,inplace=True)\n",
    "df"
   ]
  },
  {
   "cell_type": "code",
   "execution_count": null,
   "metadata": {},
   "outputs": [],
   "source": [
    "# 5.3.1. Truncate\n",
    "# importing pandas as pd\n",
    "import pandas as pd\n",
    "\n",
    "# Creating the DataFrame\n",
    "df = pd.DataFrame({'Weight':[45, 88, 56, 15, 71],\n",
    "                   'Name':['Sany', 'Andrea', 'Andi', 'Robin', 'Karen'],\n",
    "                   'Age':[18, 25, 50, 10, 22]})\n",
    "\n",
    "# Create the index\n",
    "index_ = pd.date_range('2023-05-01 08:45', periods = 5, freq ='H')\n",
    "\n",
    "# Set the index\n",
    "df.index = index_\n",
    "\n",
    "# Print the DataFrame\n",
    "print(df)\n"
   ]
  },
  {
   "cell_type": "code",
   "execution_count": null,
   "metadata": {},
   "outputs": [],
   "source": [
    "# return the truncated dataframe\n",
    "result = df.truncate(before = '2023-05-01 09:45:00', after = '2023-05-09 11:45:00')\n",
    "\n",
    "print(result)"
   ]
  },
  {
   "cell_type": "code",
   "execution_count": null,
   "metadata": {},
   "outputs": [],
   "source": [
    "# 5.3.2. Truncate\n",
    "# importing pandas as pd\n",
    "import pandas as pd\n",
    "\n",
    "# Creating the DataFrame\n",
    "df = pd.DataFrame({\"A\":[12, 4, 5, None, 1], \n",
    "                   \"B\":[7, 2, 54, 3, None], \n",
    "                   \"C\":[20, 16, 11, 3, 8], \n",
    "                   \"D\":[14, 3, None, 2, 6]}) \n",
    "  \n",
    "# Create the index\n",
    "index_ = ['Row_1', 'Row_2', 'Row_3', 'Row_4', 'Row_5']\n",
    "  \n",
    "# Set the index\n",
    "df.index = index_\n",
    "  \n",
    "# Print the DataFrame\n",
    "print(df)"
   ]
  },
  {
   "cell_type": "code",
   "execution_count": null,
   "metadata": {},
   "outputs": [],
   "source": [
    "# Truncate sebelum row_3 dan setelah row_4\n",
    "result = df.truncate(before = 'Row_3', after = 'Row_4')\n",
    "\n",
    "print(result)"
   ]
  },
  {
   "cell_type": "code",
   "execution_count": null,
   "metadata": {},
   "outputs": [],
   "source": [
    "# Truncate series\n",
    "import pandas as pd\n",
    "  \n",
    "# Creating the Series\n",
    "sr = pd.Series(['Sleman', 'Kulonprogo', 'Gunung Kidul', 'Bantul', 'Yogyakarta'])\n",
    "  \n",
    "# Create the Datetime Index\n",
    "#didx = pd.DatetimeIndex('2023-05-01 10:00',6,'W') \n",
    "  # Create the index\n",
    "didx = pd.date_range('2023-05-01 08:45', periods = 5, freq ='W')\n",
    "# set the index\n",
    "sr.index = didx\n",
    "  \n",
    "# Print the series\n",
    "print(sr)"
   ]
  },
  {
   "cell_type": "code",
   "execution_count": null,
   "metadata": {},
   "outputs": [],
   "source": [
    "sr.truncate(before='2023-05-21 08:45:00')"
   ]
  },
  {
   "cell_type": "code",
   "execution_count": null,
   "metadata": {},
   "outputs": [],
   "source": []
  }
 ],
 "metadata": {
  "kernelspec": {
   "display_name": "Python 3 (ipykernel)",
   "language": "python",
   "name": "python3"
  },
  "language_info": {
   "codemirror_mode": {
    "name": "ipython",
    "version": 3
   },
   "file_extension": ".py",
   "mimetype": "text/x-python",
   "name": "python",
   "nbconvert_exporter": "python",
   "pygments_lexer": "ipython3",
   "version": "3.7.3"
  }
 },
 "nbformat": 4,
 "nbformat_minor": 2
}

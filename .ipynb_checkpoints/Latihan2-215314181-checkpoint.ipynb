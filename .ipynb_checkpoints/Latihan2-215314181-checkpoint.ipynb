{
 "cells": [
  {
   "cell_type": "markdown",
   "metadata": {},
   "source": [
    "# Latihan 2\n",
    "\n",
    "## NIM     : 215314181\n",
    "\n",
    "## NAMA : Antonius Miquel Aureliano"
   ]
  },
  {
   "cell_type": "markdown",
   "metadata": {},
   "source": [
    "1. Buatlah sebuah variabel, beri nama sayuran. Simpanlah \"kangkung\" ke dalam varibel sayuran tersebut dan tampilkan "
   ]
  },
  {
   "cell_type": "code",
   "execution_count": null,
   "metadata": {},
   "outputs": [],
   "source": [
    "sayuran =\"kangkung\"\n",
    "print(sayuran)"
   ]
  },
  {
   "cell_type": "markdown",
   "metadata": {},
   "source": [
    "2. Dapatkah anda mencetak (print) isi dari setiap variabel berikut : \n",
    "\n",
    "    a. 01_alamat = 'Paingan' \n",
    "    \n",
    "    b. TAHUN = 2023\n",
    "    \n",
    "    c. kode_matakuliah = 'INF106'\n",
    "    \n",
    "    d. tahun-lahir = 1972\n",
    "   \n",
    "   Berikan penjelasan singkat ! Jika tidak dapat di print berikan perubahannya agar dapat di'print'\n",
    "    "
   ]
  },
  {
   "cell_type": "code",
   "execution_count": 4,
   "metadata": {},
   "outputs": [
    {
     "name": "stdout",
     "output_type": "stream",
     "text": [
      "paingan\n"
     ]
    }
   ],
   "source": [
    "#2a\n",
    "\n",
    "#01_alamat='Paingan'\n",
    "#print(01_alamat)\n",
    "\n",
    "## Penjelasan :\n",
    "#tidak bisa diawali dengan angka, maka akan error\n",
    "\n",
    "\n",
    "## Perubahan (jika tidak dapat dicetak)\n",
    "alamat = \"paingan\"\n",
    "print(alamat)"
   ]
  },
  {
   "cell_type": "code",
   "execution_count": 6,
   "metadata": {},
   "outputs": [
    {
     "name": "stdout",
     "output_type": "stream",
     "text": [
      "2023\n"
     ]
    }
   ],
   "source": [
    "#2b\n",
    "TAHUN = 2023\n",
    "print(TAHUN)\n",
    "\n",
    "## Penjelasan :\n",
    "#dapat di cetak karena diawali dengan huruf\n",
    "\n",
    "\n",
    "## Perubahan (jika tidak dapat dicetak)\n"
   ]
  },
  {
   "cell_type": "code",
   "execution_count": 5,
   "metadata": {},
   "outputs": [
    {
     "name": "stdout",
     "output_type": "stream",
     "text": [
      "INF106\n"
     ]
    }
   ],
   "source": [
    "#2c\n",
    "kode_matakuliah = 'INF106'\n",
    "print(kode_matakuliah)\n",
    "\n",
    "## Penjelasan :\n",
    "#dapat di cetak karena diawali dengan huruf\n",
    "\n",
    "\n",
    "## Perubahan (jika tidak dapat dicetak)"
   ]
  },
  {
   "cell_type": "code",
   "execution_count": 8,
   "metadata": {},
   "outputs": [
    {
     "name": "stdout",
     "output_type": "stream",
     "text": [
      "1972\n"
     ]
    }
   ],
   "source": [
    "#2d\n",
    "#tahun-lahir = 1972\n",
    "#print(tahun-lahir)\n",
    "\n",
    "## Penjelasan :\n",
    "#nama variable tidak bisa menggunakan tanda \"-\" karena akan dihitung sebagai operator\n",
    "\n",
    "\n",
    "## Perubahan (jika tidak dapat dicetak)\n",
    "tahun_lahir = 1972\n",
    "print(tahun_lahir)"
   ]
  },
  {
   "cell_type": "markdown",
   "metadata": {},
   "source": [
    "3. Buatlah variabel-variabel berikut dan tampilkan tipe data dari setiap variabel:\n",
    "        a. variabel1 = 123\n",
    "        b. variabel2 = \"123\"\n",
    "        c. variabel3= 123.456"
   ]
  },
  {
   "cell_type": "code",
   "execution_count": 9,
   "metadata": {},
   "outputs": [
    {
     "name": "stdout",
     "output_type": "stream",
     "text": [
      "<class 'int'>\n",
      "<class 'str'>\n",
      "<class 'float'>\n"
     ]
    }
   ],
   "source": [
    "## Varibel1\n",
    "variabel1 = 123\n",
    "print(type(variabel1))\n",
    "## Variabel2\n",
    "variabel2 = \"123\"\n",
    "print(type(variabel2))\n",
    "## variabel3\n",
    "variabel3= 123.456\n",
    "print(type(variabel3))\n"
   ]
  },
  {
   "cell_type": "markdown",
   "metadata": {},
   "source": [
    "4. Lakukan konversi dan tampilkan hasilnya (value dan tipe data)\n",
    "       a. Convert float ke integer \n",
    "            varibel4 = 27.6\n",
    "       b. Convert string ke integer\n",
    "            variabel5=\"50000\""
   ]
  },
  {
   "cell_type": "code",
   "execution_count": 11,
   "metadata": {},
   "outputs": [
    {
     "name": "stdout",
     "output_type": "stream",
     "text": [
      "27\n",
      "<class 'int'>\n",
      "50000\n",
      "<class 'int'>\n"
     ]
    }
   ],
   "source": [
    "#4a\n",
    "variabel4 = int(27.6)\n",
    "print(variabel4)\n",
    "print(type(variabel4))\n",
    "\n",
    "#4b\n",
    "variabel5 = int(\"50000\")\n",
    "print(variabel5)\n",
    "print(type(variabel5))"
   ]
  },
  {
   "cell_type": "markdown",
   "metadata": {},
   "source": [
    "5. Gunakan arithmetic operators untuk menyelesaikan :\n",
    "        a. 10 + 100\n",
    "        b. ((27*2)+50) ** 0.5\n",
    "        c. Modulus dari 35 / 6\n",
    "        "
   ]
  },
  {
   "cell_type": "code",
   "execution_count": 12,
   "metadata": {},
   "outputs": [
    {
     "name": "stdout",
     "output_type": "stream",
     "text": [
      "110\n",
      "10.198039027185569\n",
      "5\n"
     ]
    }
   ],
   "source": [
    " a =(10 + 100)\n",
    "print(a)\n",
    " b =(((27*2)+50)**0.5)\n",
    "print(b)\n",
    " c = (35 % 6)\n",
    "print(c)"
   ]
  },
  {
   "cell_type": "markdown",
   "metadata": {},
   "source": [
    "6. Gunakan logical operator, dan evaluasi setiap statement (TRUE/FALSE) \n",
    "        a. x=200 \n",
    "           print(x> 4 or x < 300)\n",
    "           TRUE/FALSE\n",
    "        b. 3!=4 and 3 < 4 \n",
    "           TRUE/FALSE           \n",
    "        c. x=200\n",
    "           print(not(x>4 or x < 300))\n",
    "           TRUE/FALSE"
   ]
  },
  {
   "cell_type": "code",
   "execution_count": 13,
   "metadata": {},
   "outputs": [
    {
     "name": "stdout",
     "output_type": "stream",
     "text": [
      "True\n",
      "True\n",
      "False\n"
     ]
    }
   ],
   "source": [
    "#6a\n",
    "x=200 \n",
    "print(x> 4 or x < 300)\n",
    "#True\n",
    "\n",
    "#6b\n",
    "print(3!=4 and 3 < 4) \n",
    "#True  \n",
    "\n",
    "#6c\n",
    "x=200\n",
    "print(not(x>4 or x < 300))\n",
    "#False"
   ]
  },
  {
   "cell_type": "markdown",
   "metadata": {},
   "source": [
    "7. Gunakan identity operator, evaluasi setiap statement (TRUE/FALSE)\n",
    "        a.  x = 300         \n",
    "            y = 700\n",
    "            z = y\n",
    "            print(z is y)\n",
    "            TRUE/FALSE     \n",
    "        b.  x = 300  \n",
    "\t        y = 700\n",
    "            z = y\n",
    "            print(x is not y)\t \n",
    "            TRUE/FALSE"
   ]
  },
  {
   "cell_type": "code",
   "execution_count": 14,
   "metadata": {},
   "outputs": [
    {
     "name": "stdout",
     "output_type": "stream",
     "text": [
      "True\n",
      "True\n"
     ]
    }
   ],
   "source": [
    "#7a\n",
    "x = 300         \n",
    "y = 700\n",
    "z = y\n",
    "print(z is y)\n",
    "#True \n",
    "\n",
    "#7b \n",
    "x = 300  \n",
    "y = 700\n",
    "z = y\n",
    "print(x is not y)     \n",
    "#true"
   ]
  },
  {
   "cell_type": "markdown",
   "metadata": {},
   "source": [
    "8. Gunakan membership operator : \n",
    "        a. Apakah 3000 ada dalam \"3000 tahun yang lalu ?\"\n",
    "        b. Apakah \"apel\" ada dalam list [\"apel\",\"pisang\",\"jeruk\"]\n",
    "        c. \"et\" tidak ada dalam \"Let's go for a meal\" True/False     "
   ]
  },
  {
   "cell_type": "code",
   "execution_count": 17,
   "metadata": {},
   "outputs": [
    {
     "name": "stdout",
     "output_type": "stream",
     "text": [
      "True\n",
      "True\n",
      "True\n"
     ]
    }
   ],
   "source": [
    "#8a\n",
    "x = \"3000 tahun yang lalu ?\"\n",
    "print(\"3000\" in x)\n",
    "#True\n",
    "\n",
    "#8b\n",
    "y=[\"apel\",\"pisang\",\"jeruk\"]\n",
    "print(\"apel\" in y)\n",
    "#True\n",
    "\n",
    "#8c\n",
    "z = \"Let's go for a meal\"\n",
    "print (\"et\" in z)\n",
    "#True"
   ]
  },
  {
   "cell_type": "markdown",
   "metadata": {},
   "source": [
    "9. Tentang LiST\n",
    "        1. Buat dan cetak sebuah list \"classList\" yang berisi 3 elemen yaitu Agus, Anna, Bella\n",
    "        2. List indexing: Cari element ketiga dalam list dan tampilkan\n",
    "        3. List slicing : Akses 2 element terakhir dalam List dan tampilkan\n",
    "        4. Tambahkan element menggunakan metode append dan extend : Lisa, Maria\n",
    "        5. Sisipkan (insert) element ke dalam list (1) setelah elememt kedua : Lisa         \n",
    "        6. Remove Anna dari list\n",
    "        7. Remove element kedua dari list menggunakan pop dan delete (dari list awal)"
   ]
  },
  {
   "cell_type": "code",
   "execution_count": 26,
   "metadata": {},
   "outputs": [
    {
     "name": "stdout",
     "output_type": "stream",
     "text": [
      "Bella\n",
      "['Anna', 'Bella']\n",
      "['Agus', 'Anna', 'Bella', 'Lisa', 'Maria']\n",
      "['Agus', 'Lisa', 'Anna', 'Bella', 'Lisa', 'Maria']\n",
      "['Agus', 'Lisa', 'Bella', 'Lisa', 'Maria']\n",
      "['Agus', 'Anna', 'Bella']\n",
      "Di pop : Anna\n",
      "['Agus', 'Bella']\n"
     ]
    }
   ],
   "source": [
    "classList = list((\"Agus\", \"Anna\" , \"Bella\")) \n",
    "print(classList[2])\n",
    "print(classList[1:3])\n",
    "classList.extend([\"Lisa\", \"Maria\"])\n",
    "print(classList)\n",
    "classList.insert(1,\"Lisa\")\n",
    "print(classList)\n",
    "classList.remove(\"Anna\")\n",
    "print(classList)\n",
    "\n",
    "\n",
    "classList2 = list((\"Agus\", \"Anna\" , \"Bella\")) \n",
    "print(classList2)\n",
    "print(\"Di pop : \"+ classList2.pop(1))\n",
    "print(classList2)\n",
    "\n"
   ]
  },
  {
   "cell_type": "markdown",
   "metadata": {},
   "source": [
    "10. DICTIONARY\n",
    "        1. Buatlah sebuah dictionary databases yang diberi nama myClass (empty dictionary) dan tambahkan pasangan Key:Value berikut:\n",
    "        Keys    : \"Dosen\",\"Asisten\",\"Jumlah Mahasiswa\"\n",
    "        Values  : \"Rido\",[\"Charlie\",\"Yayuk\",\"Iman\"],25\n",
    "        Types   : String, list, int\n",
    "        \n",
    "        2. Tambahkan asisten ke-4 beri nama \"Laurensius\"\n",
    "        3. Jumlah mahasiswa bertambah 3 menjadi 28\n",
    "        4. Tampilkan hasil dari dictionary. hasil yang diharapkan :\n",
    "            \n",
    "           {'Dosen': 'Rido', 'Asisten': ['Charlie', 'Yayuk', 'Iman', 'Laurensius'], 'Jumlah Mahasiswa': 28}\n",
    "        \n",
    "        "
   ]
  },
  {
   "cell_type": "code",
   "execution_count": 30,
   "metadata": {},
   "outputs": [
    {
     "name": "stdout",
     "output_type": "stream",
     "text": [
      "{}\n",
      "{'Dosen': 'Rido'}\n",
      "{'Dosen': 'Rido', 'Asisten': ['Charlie', 'Yayuk', 'Iman']}\n",
      "{'Dosen': 'Rido', 'Asisten': ['Charlie', 'Yayuk', 'Iman'], 'Jumlah Mahasiswa': 25}\n",
      "{'Dosen': 'Rido', 'Asisten': ['Charlie', 'Yayuk', 'Iman', 'Laurensius'], 'Jumlah Mahasiswa': 25}\n",
      "{'Dosen': 'Rido', 'Asisten': ['Charlie', 'Yayuk', 'Iman', 'Laurensius'], 'Jumlah Mahasiswa': 28}\n"
     ]
    }
   ],
   "source": [
    "myClass = {}\n",
    "print(myClass)\n",
    "myClass[\"Dosen\"] = \"Rido\"\n",
    "print(myClass)\n",
    "myClass[\"Asisten\"] = [\"Charlie\",\"Yayuk\",\"Iman\"]\n",
    "print(myClass)\n",
    "myClass[\"Jumlah Mahasiswa\"] = 25\n",
    "print(myClass)\n",
    "myClass[\"Asisten\"] = [\"Charlie\",\"Yayuk\",\"Iman\",\"Laurensius\"]\n",
    "print(myClass)\n",
    "myClass[\"Jumlah Mahasiswa\"] = (25+3)\n",
    "print(myClass)\n"
   ]
  },
  {
   "cell_type": "code",
   "execution_count": null,
   "metadata": {},
   "outputs": [],
   "source": []
  }
 ],
 "metadata": {
  "kernelspec": {
   "display_name": "Python 3 (ipykernel)",
   "language": "python",
   "name": "python3"
  },
  "language_info": {
   "codemirror_mode": {
    "name": "ipython",
    "version": 3
   },
   "file_extension": ".py",
   "mimetype": "text/x-python",
   "name": "python",
   "nbconvert_exporter": "python",
   "pygments_lexer": "ipython3",
   "version": "3.9.13"
  }
 },
 "nbformat": 4,
 "nbformat_minor": 4
}

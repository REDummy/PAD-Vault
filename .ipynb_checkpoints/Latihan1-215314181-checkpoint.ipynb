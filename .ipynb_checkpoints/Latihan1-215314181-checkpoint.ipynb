{
 "cells": [
  {
   "cell_type": "markdown",
   "metadata": {},
   "source": [
    "# Latihan 1"
   ]
  },
  {
   "cell_type": "markdown",
   "metadata": {},
   "source": [
    "1. Tuliskan program yang menampilkan nama dan alamat lengkap Anda di baris berikutnya!"
   ]
  },
  {
   "cell_type": "code",
   "execution_count": 1,
   "metadata": {},
   "outputs": [
    {
     "name": "stdout",
     "output_type": "stream",
     "text": [
      "Antonius Miquel\n",
      "Jl.Kakap No.42 Kavling Blok C\n"
     ]
    }
   ],
   "source": [
    "print(\"Antonius Miquel\\nJl.Kakap No.42 Kavling Blok C\")"
   ]
  },
  {
   "cell_type": "markdown",
   "metadata": {},
   "source": [
    "2. Tentukan luaran dari program berikut terlebih dahulu sebelum mengetikkannya dalam Python! \n",
    "   Kemudian periksalah luaran dari Python apakah sama dengan perkiraanmu! Pelajarilah apabila terjadi perbedaan!\n",
    "       x = input(\"masukkan suatu bilangan: \")\n",
    "       y = 3\n",
    "       z = \"2\"\n",
    "       print(x + y)\n",
    "       print(int(x) + y)\n",
    "       print(x * y)\n",
    "       print(int(x) * y)\n",
    "       print(x + z)\n",
    "       print(int(x + z))\n",
    "       print(int(x) + int(z))\n",
    "       print(x * z)"
   ]
  },
  {
   "cell_type": "code",
   "execution_count": 2,
   "metadata": {},
   "outputs": [
    {
     "name": "stdout",
     "output_type": "stream",
     "text": [
      "masukkan suatu bilangan: 1\n",
      "4\n",
      "111\n",
      "3\n",
      "12\n",
      "12\n",
      "3\n"
     ]
    }
   ],
   "source": [
    "\"\"\"\n",
    "let x = 1\n",
    "print(x + y) -> error\n",
    "print(int(x) + y) -> 4\n",
    "print(x * y) -> error\n",
    "print(int(x) * y) -> 3\n",
    "print(x + z) -> 12\n",
    "print(int(x + z)) -> 12\n",
    "print(int(x) + int(z)) -> 3\n",
    "print(x * z) -> error\n",
    "\"\"\"\n",
    "x = input(\"masukkan suatu bilangan: \")\n",
    "y = 3\n",
    "z = \"2\"\n",
    "#print(x + y)\n",
    "print(int(x) + y)\n",
    "print(x * y)\n",
    "print(int(x) * y)\n",
    "print(x + z)\n",
    "print(int(x + z))\n",
    "print(int(x) + int(z))\n",
    "#print(x * z)\n",
    "\n",
    "\"\"\"\n",
    "print(x * y) -> error \n",
    "hasilnya \"111\"\n",
    "Ternyata berbeda dengan java, data type String bisa dikalikan dengan interger\n",
    "\"\"\"\n"
   ]
  },
  {
   "cell_type": "markdown",
   "metadata": {},
   "source": [
    "3. Buatlah program dengan memasukkan panjang dan lebar ruangan kelas dan kemudian menampilkan luas ruangan!"
   ]
  },
  {
   "cell_type": "code",
   "execution_count": 4,
   "metadata": {},
   "outputs": [
    {
     "name": "stdout",
     "output_type": "stream",
     "text": [
      "Input Panjang kelas :12\n",
      "Input Panjang kelas :11\n",
      "Luas dari ruangan kelas adalah :  132\n"
     ]
    }
   ],
   "source": [
    "x = int(input(\"Input Panjang kelas :\"))\n",
    "y = int(input(\"Input Panjang kelas :\"))\n",
    "print(\"Luas dari ruangan kelas adalah :\", (x*y))"
   ]
  },
  {
   "cell_type": "markdown",
   "metadata": {},
   "source": [
    "4. Buatlah program yang memasukkan nama dan umur Anda tahun ini ke dalam variabel, kemudian tampilkan pesan:\n",
    "        Tahun depan [nama] akan berumur [umur di tahun depan]"
   ]
  },
  {
   "cell_type": "code",
   "execution_count": 7,
   "metadata": {},
   "outputs": [
    {
     "name": "stdout",
     "output_type": "stream",
     "text": [
      "Masukan nama anda : miquel\n",
      "Masukan umur anda : 20\n",
      "Tahun depan miquel akan berumur 21\n"
     ]
    }
   ],
   "source": [
    "nameIn = input(\"Masukan nama anda : \")\n",
    "ageIn = int(input(\"Masukan umur anda : \"))\n",
    "print(\"Tahun depan \"+ nameIn +\" akan berumur\", ageIn+1)\n"
   ]
  },
  {
   "cell_type": "markdown",
   "metadata": {},
   "source": [
    "5. Tentukan luaran dari operasi hitung berikut:\n",
    "        a. 7 + 3 * 5\n",
    "        b. 5.5 * 6 // 2 + 8\n",
    "        c. -3 ** 2\n",
    "        d. 50 * 2 + (60 - 20) / 4"
   ]
  },
  {
   "cell_type": "code",
   "execution_count": 9,
   "metadata": {},
   "outputs": [
    {
     "name": "stdout",
     "output_type": "stream",
     "text": [
      "22\n",
      "24.0\n",
      "-9\n",
      "110.0\n"
     ]
    }
   ],
   "source": [
    "print(7 + 3 * 5)\n",
    "print(5.5 * 6 // 2 + 8) # // = floor division operator\n",
    "print(-3 ** 2) # ** = exponent (power of) operator\n",
    "print(50 * 2 + (60 - 20) / 4)"
   ]
  },
  {
   "cell_type": "markdown",
   "metadata": {},
   "source": [
    "6. Tentukan luaran dari petikan program ini:\n",
    "        bil1 = input(\"Masukkan bilangan pertama: \")\n",
    "        bil2 = input(\"Masukkan bilangan kedua: \")\n",
    "        print(\"Jumlah kedua bilangan: \", bil1 + bil2)"
   ]
  },
  {
   "cell_type": "code",
   "execution_count": 11,
   "metadata": {},
   "outputs": [
    {
     "name": "stdout",
     "output_type": "stream",
     "text": [
      "Masukkan bilangan pertama: 1\n",
      "Masukkan bilangan kedua: 2\n",
      "Jumlah kedua bilangan:  12\n"
     ]
    }
   ],
   "source": [
    "#output tidak sesuai karena bil1 dan bil2 dalam bentuk String. Sehingga melainkan ditambah, kedua var akan di-join / concat\n",
    "bil1 = input(\"Masukkan bilangan pertama: \")\n",
    "bil2 = input(\"Masukkan bilangan kedua: \")\n",
    "print(\"Jumlah kedua bilangan: \", bil1 + bil2)"
   ]
  },
  {
   "cell_type": "markdown",
   "metadata": {},
   "source": [
    "7. Perbaikilah program di atas sehingga luarannya menjadi benar!"
   ]
  },
  {
   "cell_type": "code",
   "execution_count": 12,
   "metadata": {},
   "outputs": [
    {
     "name": "stdout",
     "output_type": "stream",
     "text": [
      "Masukkan bilangan pertama: 1\n",
      "Masukkan bilangan kedua: 2\n",
      "Jumlah kedua bilangan:  3\n"
     ]
    }
   ],
   "source": [
    "#menambahkan casting ke int\n",
    "bil1 = int(input(\"Masukkan bilangan pertama: \"))\n",
    "bil2 = int(input(\"Masukkan bilangan kedua: \"))\n",
    "print(\"Jumlah kedua bilangan: \", bil1 + bil2)"
   ]
  },
  {
   "cell_type": "markdown",
   "metadata": {},
   "source": [
    "8. Buatlah program untuk menghitung BMI(Body Mass Index) dengan meminta user memasukkan data berat badan(dalam kg) \n",
    "   dan tinggi badan(dalam cm)! \n",
    "        BMI = berat(dalam kg) / (tinggi(dalam meter) ** 2)  \n",
    "   Tampilkan pesan \n",
    "       Orang dengan berat [...] kg dan tinggi [...] cm mempunyai BMI [...]."
   ]
  },
  {
   "cell_type": "code",
   "execution_count": 13,
   "metadata": {},
   "outputs": [
    {
     "name": "stdout",
     "output_type": "stream",
     "text": [
      "Masukkan berat(dalam kg): 50\n",
      "Masukkan tinggi(dalam centimeter): 160\n",
      "Orang dengan berat  50  kg dan tinggi 160 cm mempunyai BMI 19.531249999999996\n"
     ]
    }
   ],
   "source": [
    "beratIn = int(input(\"Masukkan berat(dalam kg): \"))\n",
    "tinggiIn = int(input(\"Masukkan tinggi(dalam centimeter): \"))\n",
    "bmi = beratIn/((tinggiIn/100)**2)\n",
    "print(\"Orang dengan berat \",beratIn ,\" kg dan tinggi\", tinggiIn,\"cm mempunyai BMI\", bmi)"
   ]
  },
  {
   "cell_type": "markdown",
   "metadata": {},
   "source": [
    "9. Buatlah program yang menanyakan umurmu saat ini, umur berapa kamu akan pensiun dan menampilkan pesan\n",
    "        Kamu akan pensiun di tahun [...] yaitu [...] tahun dari sekarang."
   ]
  },
  {
   "cell_type": "code",
   "execution_count": 15,
   "metadata": {},
   "outputs": [
    {
     "name": "stdout",
     "output_type": "stream",
     "text": [
      "Masukan umur saat ini: 20\n",
      "Masukan umur dimana kamu akan pensiun: 50\n",
      "Kamu akan pensiun di tahun 2053  yaitu 30 tahun dari sekarang.\n"
     ]
    }
   ],
   "source": [
    "age = int(input(\"Masukan umur saat ini: \"))\n",
    "retireAge = int(input(\"Masukan umur dimana kamu akan pensiun: \"))\n",
    "yearLeft = retireAge-age\n",
    "print(\"Kamu akan pensiun di tahun\",2023+yearLeft,\" yaitu\",yearLeft,\"tahun dari sekarang.\")"
   ]
  },
  {
   "cell_type": "markdown",
   "metadata": {},
   "source": [
    "10. Buatlah program memasukkan bilangan pertama dan kedua, kemudian tampilkan sebagai berikut:\n",
    "        [...] (+, - , *, /) [...] = [...]"
   ]
  },
  {
   "cell_type": "code",
   "execution_count": 17,
   "metadata": {},
   "outputs": [
    {
     "name": "stdout",
     "output_type": "stream",
     "text": [
      "Masukkan bilangan pertama: 2\n",
      "Masukkan bilangan kedua: 2\n",
      "2 (+, - , *, /) 2 = (4, 0, 1.0, 4)\n"
     ]
    }
   ],
   "source": [
    "bil1 = int(input(\"Masukkan bilangan pertama: \"))\n",
    "bil2 = int(input(\"Masukkan bilangan kedua: \"))\n",
    "operator = (bil1+bil2,bil1-bil2,bil1/bil2,bil1*bil2)\n",
    "print(bil1,\"(+, - , *, /)\",bil2,\"=\",operator)"
   ]
  },
  {
   "cell_type": "markdown",
   "metadata": {},
   "source": [
    "[W3School exercise](https://drive.google.com/file/d/15RWvx2yfS7xh3wOYlCi4DRGqz0zB4jlU/view?usp=share_link)"
   ]
  },
  {
   "cell_type": "code",
   "execution_count": 4,
   "metadata": {},
   "outputs": [
    {
     "name": "stdout",
     "output_type": "stream",
     "text": [
      "555\n"
     ]
    }
   ],
   "source": [
    "x =3\n",
    "y = \"5\"\n",
    "print(x * y)\n"
   ]
  },
  {
   "cell_type": "code",
   "execution_count": null,
   "metadata": {},
   "outputs": [],
   "source": []
  }
 ],
 "metadata": {
  "kernelspec": {
   "display_name": "Python 3 (ipykernel)",
   "language": "python",
   "name": "python3"
  },
  "language_info": {
   "codemirror_mode": {
    "name": "ipython",
    "version": 3
   },
   "file_extension": ".py",
   "mimetype": "text/x-python",
   "name": "python",
   "nbconvert_exporter": "python",
   "pygments_lexer": "ipython3",
   "version": "3.9.13"
  },
  "vscode": {
   "interpreter": {
    "hash": "c757b53a6bb4285008c858dd98d22ea99305c5864764df2cdba35edcf036e3c8"
   }
  }
 },
 "nbformat": 4,
 "nbformat_minor": 4
}

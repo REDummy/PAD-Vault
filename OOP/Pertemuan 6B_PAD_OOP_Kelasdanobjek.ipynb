{
 "cells": [
  {
   "cell_type": "markdown",
   "id": "5487a6c6",
   "metadata": {},
   "source": [
    "# User Defined Class"
   ]
  },
  {
   "cell_type": "markdown",
   "id": "a46b4fef",
   "metadata": {},
   "source": [
    "## Contoh 1_Definisi Kelas"
   ]
  },
  {
   "cell_type": "code",
   "execution_count": 1,
   "id": "e400c170",
   "metadata": {},
   "outputs": [],
   "source": [
    "class Persegi_panjang:\n",
    "    \n",
    "    # menginisialisasi klas\n",
    "    def __init__(self,panjang=1,lebar=1):\n",
    "        self._panjang = panjang ## instance variabel\n",
    "        self._lebar = lebar     ## instance_variabel\n",
    "    \n",
    "    # mutator methods\n",
    "    def setPanjang(self,panjang):\n",
    "        self._panjang=panjang\n",
    "    \n",
    "    def setLebar(self,lebar):\n",
    "        self._lebar=lebar\n",
    "        \n",
    "    # accessor methods\n",
    "    def getPanjang(self):\n",
    "        return self._panjang\n",
    "    \n",
    "    def getLebar(self):\n",
    "        return self._lebar\n",
    "    \n",
    "    # metode menghitung luas\n",
    "    def luas(self):\n",
    "        return self._panjang * self._lebar\n",
    "    \n",
    "    def keliling(self):\n",
    "        return 2*(self._panjang+self._lebar)\n",
    "    \n",
    "    def __str__(self):\n",
    "        return (\"Panjang: \"+str(self._panjang)\n",
    "               +\"\\nLebar: \"+str(self._lebar))\n"
   ]
  },
  {
   "cell_type": "code",
   "execution_count": 2,
   "id": "82220ada",
   "metadata": {},
   "outputs": [
    {
     "name": "stdout",
     "output_type": "stream",
     "text": [
      "Panjang: 10\n",
      "Lebar: 5\n",
      "Panjang: 1\n",
      "Lebar: 1\n",
      "Panjang: 4\n",
      "Lebar: 1\n"
     ]
    }
   ],
   "source": [
    "persegi1=Persegi_panjang(10,5)\n",
    "print(persegi1)\n",
    "\n",
    "persegi2=Persegi_panjang()\n",
    "print(persegi2)\n",
    "\n",
    "persegi3=Persegi_panjang(4)\n",
    "print(persegi3)"
   ]
  },
  {
   "cell_type": "code",
   "execution_count": 3,
   "id": "d93160ae",
   "metadata": {},
   "outputs": [
    {
     "name": "stdout",
     "output_type": "stream",
     "text": [
      "Panjang dan lebar persegi panjang adalah \n",
      "Panjang: 10\n",
      "Lebar: 5\n",
      "Panjang persegi panjang adalah 10\n",
      "Lebar persegi panjang adalah 5\n",
      "Persegi panjang dengan panjang 10 dan lebar 5 mempunyai luas 50.\n",
      "Persegi panjang dengan panjang 10 dan lebar 5 mempunyai keliling 30.\n"
     ]
    }
   ],
   "source": [
    "persegi_panjang1 = Persegi_panjang(10,5)\n",
    "print('Panjang dan lebar persegi panjang adalah \\n'+str(persegi_panjang1))\n",
    "print('Panjang persegi panjang adalah ' + str(persegi_panjang1._panjang))\n",
    "print('Lebar persegi panjang adalah ' + str(persegi_panjang1._lebar))\n",
    "print(f'Persegi panjang dengan panjang {persegi_panjang1._panjang} dan lebar {persegi_panjang1._lebar} mempunyai luas {persegi_panjang1.luas()}.')\n",
    "print(f\"Persegi panjang dengan panjang {persegi_panjang1._panjang} dan lebar {persegi_panjang1._lebar} mempunyai keliling {persegi_panjang1.keliling()}.\")"
   ]
  },
  {
   "cell_type": "markdown",
   "id": "6a63d0ce",
   "metadata": {},
   "source": [
    "## Contoh Penggunaan Class"
   ]
  },
  {
   "cell_type": "code",
   "execution_count": 4,
   "id": "eaa37862",
   "metadata": {},
   "outputs": [
    {
     "ename": "ModuleNotFoundError",
     "evalue": "No module named 'persegi'",
     "output_type": "error",
     "traceback": [
      "\u001b[1;31m---------------------------------------------------------------------------\u001b[0m",
      "\u001b[1;31mModuleNotFoundError\u001b[0m                       Traceback (most recent call last)",
      "Cell \u001b[1;32mIn[4], line 1\u001b[0m\n\u001b[1;32m----> 1\u001b[0m \u001b[39mimport\u001b[39;00m \u001b[39mpersegi\u001b[39;00m\n",
      "\u001b[1;31mModuleNotFoundError\u001b[0m: No module named 'persegi'"
     ]
    }
   ],
   "source": [
    "import persegi"
   ]
  },
  {
   "cell_type": "code",
   "execution_count": null,
   "id": "4da60496",
   "metadata": {},
   "outputs": [],
   "source": [
    "p1=persegi.PersegiPanjang(4,6)\n",
    "print(p1)\n",
    "print()\n",
    "\n",
    "p2=persegi.PersegiPanjang()\n",
    "print(p2)\n",
    "print()"
   ]
  },
  {
   "cell_type": "markdown",
   "id": "c435cf4a",
   "metadata": {},
   "source": [
    "## Menggunakan Mutator"
   ]
  },
  {
   "cell_type": "code",
   "execution_count": null,
   "id": "4057de02",
   "metadata": {},
   "outputs": [],
   "source": [
    "import persegi\n",
    "\n",
    "p=persegi.PersegiPanjang()\n",
    "\n",
    "panjang_in=float(input(\"Masukan Panjang Persegi Panjang: \"))\n",
    "lebar_in=float(input(\"Masukan   Lebar   Persegi Panjang: \"))\n",
    "p.setPanjang(panjang_in)\n",
    "p.setLebar(lebar_in)\n",
    "\n",
    "print(\"Persegi panjang memiliki ukuran sebagai berikut : \")\n",
    "print(\"Panjangnya adalah: \",p.getPanjang())\n",
    "print(\"Lebarnya adalah  : \",p.getLebar())\n",
    "\n",
    "## Methode Luas dan Lebar\n",
    "print()\n",
    "print(\"Luasnya adalah   : \",p.luas())\n",
    "print(\"Keliling adalah  : \",p.keliling())"
   ]
  },
  {
   "cell_type": "markdown",
   "id": "e39760c6",
   "metadata": {},
   "source": [
    "### Cara lain cara Initializer Method"
   ]
  },
  {
   "cell_type": "code",
   "execution_count": null,
   "id": "045ae272",
   "metadata": {},
   "outputs": [],
   "source": [
    "def __init__(self):\n",
    "    self._panjang=10\n",
    "    self._lebar=1"
   ]
  },
  {
   "cell_type": "code",
   "execution_count": null,
   "id": "eebd8130",
   "metadata": {},
   "outputs": [],
   "source": [
    "def __init__(self,panjang=10):\n",
    "    self._panjang=panjang\n",
    "    self._lebar=1"
   ]
  },
  {
   "cell_type": "code",
   "execution_count": null,
   "id": "941eedca",
   "metadata": {},
   "outputs": [],
   "source": [
    "def __init__(self,lebar=1):\n",
    "    self._panjang=10\n",
    "    self._lebar=lebar"
   ]
  },
  {
   "cell_type": "markdown",
   "id": "2b14bcb8",
   "metadata": {},
   "source": [
    "## Tanpa Mutator atau Accessor methods"
   ]
  },
  {
   "cell_type": "code",
   "execution_count": null,
   "id": "a216bdc0",
   "metadata": {},
   "outputs": [],
   "source": [
    "import random\n",
    "\n",
    "def main():\n",
    "    c=Card() # create an instance of a Card object and call __init__ method.\n",
    "    c.selectAtRandom()\n",
    "    print(c)\n",
    "\n",
    "class Card():\n",
    "    def __init__(self,rank=\"\",suit=\"\"):\n",
    "        self._rank=rank\n",
    "        self._suit=suit\n",
    "    \n",
    "    def selectAtRandom(self):\n",
    "        ## Randomly select a rank and a suit.\n",
    "        ranks = ['2', '3', '4', '5', '6', '7', '8', '9',\"10\", \"jack\", \"queen\", \"king\", \"ace\"]\n",
    "        self._rank = random.choice(ranks)\n",
    "        self._suit = random.choice([\"spades\", \"hearts\", \"clubs\", \"diamonds\"])\n",
    "    \n",
    "    def __str__(self):\n",
    "        return(self._rank+\" of \"+self._suit)\n",
    "\n",
    "\n",
    "main()\n",
    "    "
   ]
  },
  {
   "cell_type": "markdown",
   "id": "5653d05c",
   "metadata": {},
   "source": [
    "## No Accessor Method"
   ]
  },
  {
   "cell_type": "markdown",
   "id": "188ba9e7",
   "metadata": {},
   "source": [
    "Program digunakan untuk menentukan nilai A,B,C,D,E dari seorang mahasiswa. \n",
    "\n",
    "Program akan menerima masukan yaitu nama serta nilai uts dan nilai uas.\n",
    "\n",
    "Nilai total adalah rata-rata dari nilai uts dan nilai uas ((uts+uas)/2)\n",
    "\n",
    "Nilai A B C D E F ditentukan dari :\n",
    "\n",
    "    1. Jika Total >= 80 --> A\n",
    "    2. Jika 70 <= Total < 80 --> B\n",
    "    3. Jika 56 <= Total < 70 --> C\n",
    "    4. Jika 50 <= Total < 56 --> D\n",
    "    5. Jika 0 <= Total < 50 --> E\n",
    "  \n",
    "Beri nama kelas LGstudent\n"
   ]
  },
  {
   "cell_type": "code",
   "execution_count": null,
   "id": "678c25f4",
   "metadata": {},
   "outputs": [],
   "source": [
    "def main():\n",
    "    ## Menghitung dan menampilkan nama serta nilai huruf \n",
    "    ## Input nya adalah nama mahasiswa dan nilai uts dan uas\n",
    "    \n",
    "    nama = input(\"Masukan nama: \")\n",
    "    uts = float(input(\"Nilai Ujian Tengah Semester: \"))\n",
    "    uas = float(input(\"Nilai Ujian Akhir Semester : \"))\n",
    "\n",
    "    # Create an instance of an LGstudent object.\n",
    "    st = LGstudent(nama, uts,uas)\n",
    "    print(\"\\nNAME\\tGRADE\")\n",
    "    # Display student's name and semester letter grade.\n",
    "    print(st)\n",
    "\n",
    "class LGstudent:\n",
    "    def __init__(self, nama=\"\", uts=0, uas=0):\n",
    "        self._name = nama\n",
    "        self._midterm = uts\n",
    "        self._final = uas\n",
    "    \n",
    "    def setName(self, nama):\n",
    "        self._name = nama\n",
    "    \n",
    "    def setMidterm(self, uts):\n",
    "        self._midterm = uts\n",
    "    \n",
    "    def setFinal(self, uas):\n",
    "        self._final = uas\n",
    "    \n",
    "    def calcSemGrade(self):\n",
    "        average = (self._midterm + self._final) / 2\n",
    "        average = round(average)\n",
    "        if average >= 80:\n",
    "            return \"A\"\n",
    "        elif average >= 70:\n",
    "             return \"B\"\n",
    "        elif average >= 56:\n",
    "             return \"C\"\n",
    "        elif average >= 50:\n",
    "             return \"D\"\n",
    "        else:\n",
    "             return \"E\"\n",
    " \n",
    "    def __str__(self):\n",
    "         return self._name + \"\\t\" + self.calcSemGrade()\n"
   ]
  },
  {
   "cell_type": "code",
   "execution_count": null,
   "id": "1319d290",
   "metadata": {},
   "outputs": [],
   "source": [
    "main()\n"
   ]
  },
  {
   "cell_type": "markdown",
   "id": "22036b09",
   "metadata": {},
   "source": [
    "### LIST OF OBJECTS\n",
    "\n",
    "Simpan LGStudent dalam file lgStudent.py \n",
    "\n",
    "Buat daftar list of objects :\n",
    "\n",
    "Masukan nama, nilai uts dan uas. Simpan dalam list. \n",
    "\n",
    "Berikan pertanyaan apakah akan memasukan data lagi jika jawaban = 'Y' maka akan diulang memasukan data\n"
   ]
  },
  {
   "cell_type": "code",
   "execution_count": null,
   "id": "7266cea7",
   "metadata": {},
   "outputs": [],
   "source": [
    "import student\n",
    "\n",
    "def main():\n",
    "    # Calculate and display several students' semester letter grades.\n",
    "    listOfStudents = [] # List to hold an object for each student.\n",
    "    carryOn = 'Y'\n",
    "    while carryOn == 'Y':\n",
    "        ## Menghitung dan menampilkan nama serta nilai huruf \n",
    "        ## Input nya adalah nama mahasiswa dan nilai uts dan uas\n",
    "\n",
    "        nama = input(\"Masukan nama: \")\n",
    "        uts = float(input(\"Nilai Ujian Tengah Semester: \"))\n",
    "        uas = float(input(\"Nilai Ujian Akhir Semester : \"))\n",
    "\n",
    "        # Create an instance of an LGstudent object.\n",
    "        st = student.LGstudent(nama, uts,uas)\n",
    "        listOfStudents.append(st) # Insert object into list.\n",
    "        carryOn = input(\"Ingin Melanjutkan (Y/N)? \")\n",
    "        carryOn = carryOn.upper()\n",
    "\n",
    "    print(\"\\nNAME\\tGRADE\")\n",
    "    # Display students, names, and semester letter grades.\n",
    "    for mhs in listOfStudents: \n",
    "        print(mhs)\n",
    "\n",
    "main()"
   ]
  },
  {
   "cell_type": "code",
   "execution_count": null,
   "id": "8c6cc59f",
   "metadata": {},
   "outputs": [],
   "source": [
    "import student\n",
    "\n",
    "def main():\n",
    "    # Calculate and display several students' semester letter grades.\n",
    "    listOfStudents = [] # List to hold an object for each student.\n",
    "    carryOn = 'Y'\n",
    "    while carryOn == 'Y':\n",
    "        ## Menghitung dan menampilkan nama serta nilai huruf \n",
    "        ## Input nya adalah nama mahasiswa dan nilai uts dan uas\n",
    "\n",
    "        nama = input(\"Masukan nama: \")\n",
    "        uts = float(input(\"Nilai Ujian Tengah Semester: \"))\n",
    "        uas = float(input(\"Nilai Ujian Akhir Semester : \"))\n",
    "\n",
    "        # Create an instance of an LGstudent object.\n",
    "        st = student.LGstudent(nama, uts,uas)\n",
    "        listOfStudents.append(st) # Insert object into list.\n",
    "        carryOn = input(\"Ingin Melanjutkan (Y/N)? \")\n",
    "        carryOn = carryOn.upper()\n",
    "\n",
    "    print(\"\\nNAME\\tGRADE\")\n",
    "    # Display students, names, and semester letter grades urut berdasarkan abjad nama\n",
    "    listOfStudents.sort(key=lambda x: x.getName())\n",
    "    for mhs in listOfStudents: \n",
    "        print(mhs)\n",
    "\n",
    "main()"
   ]
  }
 ],
 "metadata": {
  "kernelspec": {
   "display_name": "Python 3 (ipykernel)",
   "language": "python",
   "name": "python3"
  },
  "language_info": {
   "codemirror_mode": {
    "name": "ipython",
    "version": 3
   },
   "file_extension": ".py",
   "mimetype": "text/x-python",
   "name": "python",
   "nbconvert_exporter": "python",
   "pygments_lexer": "ipython3",
   "version": "3.11.2"
  }
 },
 "nbformat": 4,
 "nbformat_minor": 5
}

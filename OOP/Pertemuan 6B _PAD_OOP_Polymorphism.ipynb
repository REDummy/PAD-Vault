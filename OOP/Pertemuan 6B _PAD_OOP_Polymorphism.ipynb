{
 "cells": [
  {
   "cell_type": "code",
   "execution_count": 1,
   "id": "2ad995f6",
   "metadata": {},
   "outputs": [],
   "source": [
    "class Student:\n",
    "    def __init__(self, nama=\"\", uts=0, uas=0):\n",
    "        self._name = nama\n",
    "        self._midterm = uts\n",
    "        self._final = uas\n",
    "        \n",
    "    def setName(self, nama):\n",
    "        self._name = nama\n",
    "    \n",
    "    def setMidterm(self, uts):\n",
    "        self._midterm = uts\n",
    "    \n",
    "    def setFinal(self, uas):\n",
    "         self._final = uas \n",
    "    \n",
    "    def getName(self):\n",
    "         return self._name\n",
    "        \n",
    "    def __str__(self):\n",
    "        return self._name + \"\\t\" + self.calcSemGrade()\n",
    "\n",
    "\n",
    "class LGstudent(Student):\n",
    "    \n",
    "    def calcSemGrade(self):\n",
    "        average = (self._midterm + self._final) / 2\n",
    "        average = round(average)\n",
    "        if average >= 80:\n",
    "            return \"A\"\n",
    "        elif average >= 70:\n",
    "             return \"B\"\n",
    "        elif average >= 56:\n",
    "             return \"C\"\n",
    "        elif average >= 50:\n",
    "             return \"D\"\n",
    "        else:\n",
    "             return \"E\"\n",
    "\n",
    "class PFstudent(Student):\n",
    "    \n",
    "    def calcSemGrade(self):\n",
    "        average = round((self._midterm + self._final) / 2)\n",
    "        if average >= 56:\n",
    "            return \"Lulus\"\n",
    "        else:\n",
    "            return \"Gagal\"\n",
    "        "
   ]
  },
  {
   "cell_type": "code",
   "execution_count": 2,
   "id": "3f42e66f",
   "metadata": {},
   "outputs": [],
   "source": [
    "import student\n",
    "\n",
    "def main():\n",
    "    listOfStudents = obtainListOfStudents() # students and grades\n",
    "    displayResults(listOfStudents)\n",
    "\n",
    "def obtainListOfStudents():\n",
    "    listOfStudents = [] # List to hold an object for each student.\n",
    "    carryOn = 'Y'\n",
    "    while carryOn == 'Y':\n",
    "        ## Menghitung dan menampilkan nama serta nilai huruf \n",
    "        ## Input nya adalah nama mahasiswa dan nilai uts dan uas\n",
    "\n",
    "        nama = input(\"Masukan nama: \")\n",
    "        uts = float(input(\"Nilai Ujian Tengah Semester: \"))\n",
    "        uas = float(input(\"Nilai Ujian Akhir Semester : \"))\n",
    "        category = input(\"Masukan kategori perhitungan (LG atau PF): \")\n",
    "        if category.upper() == \"LG\":\n",
    "            # Create an instance of an LGstudent object.\n",
    "            st = student.LGstudent(nama, uts,uas)\n",
    "        else:\n",
    "            st = student.PFstudent(nama,uts,uas)\n",
    "        \n",
    "        listOfStudents.append(st) # Insert object into list.\n",
    "        carryOn = input(\"Ingin Melanjutkan (Y/N)? \")\n",
    "        carryOn = carryOn.upper()\n",
    "\n",
    "    return listOfStudents\n",
    "\n",
    "def displayResults(listOfStudents):\n",
    "    print(\"\\nNAME\\tGRADE\")\n",
    "    listOfStudents.sort(key=lambda x: x.getName()) # Sort students by name.\n",
    "    # Display students, names, and semester letter grades.\n",
    "    for mhs in listOfStudents: \n",
    "        print(mhs)"
   ]
  },
  {
   "cell_type": "code",
   "execution_count": 3,
   "id": "e11b3d75",
   "metadata": {},
   "outputs": [
    {
     "name": "stdout",
     "output_type": "stream",
     "text": [
      "\n",
      "NAME\tGRADE\n",
      "adi\tC\n"
     ]
    }
   ],
   "source": [
    "main()"
   ]
  },
  {
   "cell_type": "markdown",
   "id": "5abab2be",
   "metadata": {},
   "source": [
    "###  isinstance"
   ]
  },
  {
   "cell_type": "code",
   "execution_count": 4,
   "id": "ed035912",
   "metadata": {},
   "outputs": [
    {
     "name": "stdout",
     "output_type": "stream",
     "text": [
      "\n",
      "NAME\tGRADE\n",
      "budi\tLulus\n",
      "Number of letter-grade students: 0\n",
      "Number of pass-fail students: 1\n"
     ]
    }
   ],
   "source": [
    "import student\n",
    "\n",
    "def main():\n",
    "    listOfStudents = obtainListOfStudents() # students and grades\n",
    "    displayResults(listOfStudents)\n",
    "\n",
    "def obtainListOfStudents():\n",
    "    listOfStudents = [] # List to hold an object for each student.\n",
    "    carryOn = 'Y'\n",
    "    while carryOn == 'Y':\n",
    "        ## Menghitung dan menampilkan nama serta nilai huruf \n",
    "        ## Input nya adalah nama mahasiswa dan nilai uts dan uas\n",
    "\n",
    "        nama = input(\"Masukan nama: \")\n",
    "        uts = float(input(\"Nilai Ujian Tengah Semester: \"))\n",
    "        uas = float(input(\"Nilai Ujian Akhir Semester : \"))\n",
    "        category = input(\"Masukan kategori perhitungan (LG atau PF): \")\n",
    "        if category.upper() == \"LG\":\n",
    "            # Create an instance of an LGstudent object.\n",
    "            st = student.LGstudent(nama, uts,uas)\n",
    "        else:\n",
    "            st = student.PFstudent(nama,uts,uas)\n",
    "        \n",
    "        listOfStudents.append(st) # Insert object into list.\n",
    "        carryOn = input(\"Ingin Melanjutkan (Y/N)? \")\n",
    "        carryOn = carryOn.upper()\n",
    "\n",
    "    return listOfStudents\n",
    "\n",
    "def displayResults(listOfStudents):\n",
    "    print(\"\\nNAME\\tGRADE\")\n",
    "    numberOfLGstudents = 0 # Counter for number of letter-grade students.\n",
    "    listOfStudents.sort(key=lambda x: x.getName()) # Sort students by name.\n",
    "    # Display students, names, and semester letter grades.\n",
    "    for mhs in listOfStudents: \n",
    "        print(mhs)\n",
    "        if isinstance(mhs,student.LGstudent):\n",
    "            numberOfLGstudents +=1\n",
    "    # Display number of students in each category.\n",
    "    print(\"Number of letter-grade students:\", numberOfLGstudents)\n",
    "    print(\"Number of pass-fail students:\", len(listOfStudents) - numberOfLGstudents)\n",
    "    \n",
    "main()"
   ]
  }
 ],
 "metadata": {
  "kernelspec": {
   "display_name": "Python 3 (ipykernel)",
   "language": "python",
   "name": "python3"
  },
  "language_info": {
   "codemirror_mode": {
    "name": "ipython",
    "version": 3
   },
   "file_extension": ".py",
   "mimetype": "text/x-python",
   "name": "python",
   "nbconvert_exporter": "python",
   "pygments_lexer": "ipython3",
   "version": "3.11.2"
  }
 },
 "nbformat": 4,
 "nbformat_minor": 5
}

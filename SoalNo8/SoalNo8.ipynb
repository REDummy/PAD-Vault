{
 "cells": [
  {
   "cell_type": "code",
   "execution_count": 4,
   "id": "1af317b4",
   "metadata": {},
   "outputs": [
    {
     "name": "stdout",
     "output_type": "stream",
     "text": [
      "Currency :  Bolivar\n",
      "Exchange Rate :  1632892.73\n"
     ]
    }
   ],
   "source": [
    "def searchCountry(state=\"America\"):\n",
    "    with open(\"exchrate.txt\", \"r\") as inFile:\n",
    "        for line in inFile:\n",
    "            temp = line.strip() # Remove newline character\n",
    "            if temp.startswith(state + \",\"): # Check if line starts with state name\n",
    "                parts = temp.split(',')\n",
    "                print(\"Currency : \", parts[1])\n",
    "                print(\"Exchange Rate : \", float(parts[2]))\n",
    "                break # Stop searching after finding first match\n",
    "\n",
    "searchCountry(\"Venezuela\")\n"
   ]
  },
  {
   "cell_type": "code",
   "execution_count": 5,
   "id": "1ea03338",
   "metadata": {},
   "outputs": [
    {
     "name": "stdout",
     "output_type": "stream",
     "text": [
      "United Kingdom\n",
      "Austria\n",
      "Belgium\n",
      "Eurozone\n",
      "Netherlands\n",
      "Switzerland\n",
      "America\n",
      "Australia\n",
      "Canada\n",
      "Singapore\n",
      "New Zealand\n",
      "Brazil\n",
      "Israel\n",
      "United Arab Emirates\n",
      "Saudi Arabia\n",
      "Poland\n",
      "Peru\n",
      "Malaysia\n",
      "Denmark\n",
      "China\n",
      "HongKong\n",
      "Argentina\n",
      "Sweden\n",
      "Norway\n",
      "Turkey\n",
      "Morocco\n",
      "South Africa\n",
      "Egypt\n",
      "Czech Republic\n",
      "Mexico\n",
      "Taiwan\n",
      "Ukraine\n",
      "Thailand\n",
      "Uruguay\n",
      "Philippines\n",
      "Russia\n",
      "India\n",
      "Japan\n",
      "Pakistan\n",
      "Hungary\n",
      "Kazakhstan\n",
      "Chile\n",
      "South Korea\n",
      "Colombia\n",
      "Indonesia\n",
      "Vietnam\n",
      "Venezuela\n"
     ]
    }
   ],
   "source": [
    "def ascCountry() :\n",
    "    rate=list()\n",
    "    # Open the file for reading\n",
    "    with open('exchrate.txt', 'r') as file:\n",
    "        # Read the lines and split them by comma\n",
    "        for line in file.readlines() :\n",
    "            lines = line.strip().split(',')\n",
    "            rate.append(lines)\n",
    "            \n",
    "\n",
    "    # Sort the lines based on the exchange rate (third column)\n",
    "    \n",
    "    rate.sort(key=lambda x:float(x[2]))\n",
    "\n",
    "    # Print the countries in ascending order of exchange rate\n",
    "    for line in rate:\n",
    "        print(line[0])\n",
    "ascCountry()"
   ]
  },
  {
   "cell_type": "code",
   "execution_count": 6,
   "id": "c3280f05",
   "metadata": {},
   "outputs": [
    {
     "name": "stdout",
     "output_type": "stream",
     "text": [
      "100.00 Dollar (America) is equal to 1415598.00 Rupiah (Indonesia)\n"
     ]
    }
   ],
   "source": [
    "def convert() :\n",
    "        # Open the file for reading\n",
    "    with open('exchrate.txt', 'r') as file:\n",
    "        # Read the lines and split them by comma\n",
    "        lines = [line.strip().split(',') for line in file.readlines()]\n",
    "\n",
    "    # Create a dictionary to map the country name to the exchange rate\n",
    "    exchange_rates = {line[0]: (float(line[2]), line[1]) for line in lines}\n",
    "\n",
    "    # Get the input amount and the two countries\n",
    "    from_country = (input(\"Enter the name of the country you want to convert from: \")).title()\n",
    "    to_country = (input(\"Enter the name of the country you want to convert to: \")).title()\n",
    "    amount = float(input(\"Enter the amount of money: \"))\n",
    "\n",
    "    from_rate, from_currency = exchange_rates[from_country]\n",
    "    to_rate, to_currency = exchange_rates[to_country]\n",
    "\n",
    "    # Convert the amount from one currency to another \n",
    "    converted_amount = amount / from_rate * to_rate\n",
    "\n",
    "    # Print the result\n",
    "    print(f\"{amount:.2f} {from_currency} ({from_country}) is equal to {converted_amount:.2f} {to_currency} ({to_country})\")\n",
    "convert()"
   ]
  }
 ],
 "metadata": {
  "kernelspec": {
   "display_name": "Python 3 (ipykernel)",
   "language": "python",
   "name": "python3"
  },
  "language_info": {
   "codemirror_mode": {
    "name": "ipython",
    "version": 3
   },
   "file_extension": ".py",
   "mimetype": "text/x-python",
   "name": "python",
   "nbconvert_exporter": "python",
   "pygments_lexer": "ipython3",
   "version": "3.11.2"
  }
 },
 "nbformat": 4,
 "nbformat_minor": 5
}

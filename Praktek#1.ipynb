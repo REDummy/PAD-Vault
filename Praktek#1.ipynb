{
 "cells": [
  {
   "attachments": {},
   "cell_type": "markdown",
   "id": "de5841a6",
   "metadata": {},
   "source": [
    " <b>Sample text</b>\n",
    "* _Sample text in italic_\n",
    "---\n",
    ">**Sample text in Bold**\n",
    "* ___Sample text in italic and Bold___\n",
    "## Mock Title ##\n",
    "# Heading 1\n",
    "## Heading 2\n",
    "### Heading 3\n",
    "#### Heading 4\n",
    "##### Heading 5\n",
    "###### Heading 6\n",
    "####### Heading 7 but question mark\n",
    "\n",
    "## List ##\n",
    "1. no1\n",
    "2. no2\n",
    "```Python\n",
    "str = (\"Block of code\")\n",
    "print(str)\n",
    "```\n",
    "|table example| col 1 | another col|\n",
    "|-------------|-------|------------|\n",
    "|Name         |1925412|asdlaskdasld|\n",
    "![Alt Text](image path\"random\")\n",
    "![bg_kv_effect_v2.png](attachment:bg_kv_effect_v2.png)\n"
   ]
  },
  {
   "cell_type": "code",
   "execution_count": null,
   "id": "9737dedc",
   "metadata": {},
   "outputs": [],
   "source": []
  },
  {
   "cell_type": "code",
   "execution_count": null,
   "id": "85351316",
   "metadata": {},
   "outputs": [],
   "source": [
    "\n"
   ]
  }
 ],
 "metadata": {
  "kernelspec": {
   "display_name": "Python 3 (ipykernel)",
   "language": "python",
   "name": "python3"
  },
  "language_info": {
   "codemirror_mode": {
    "name": "ipython",
    "version": 3
   },
   "file_extension": ".py",
   "mimetype": "text/x-python",
   "name": "python",
   "nbconvert_exporter": "python",
   "pygments_lexer": "ipython3",
   "version": "3.9.13"
  }
 },
 "nbformat": 4,
 "nbformat_minor": 5
}

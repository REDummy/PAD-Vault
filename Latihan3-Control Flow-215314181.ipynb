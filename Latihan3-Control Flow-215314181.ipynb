{
 "cells": [
  {
   "cell_type": "markdown",
   "metadata": {},
   "source": [
    "# Latihan 3 - Kondisi dan Perulangan\n",
    "\n",
    "## NIM     : 215314181\n",
    "\n",
    "## NAMA : Antonius Miquel Aureliano\n"
   ]
  },
  {
   "cell_type": "markdown",
   "metadata": {},
   "source": [
    "1. Buatlah program untuk memasukkan sebuah bilangan, kemudian tampilkan pesan apakah bilangan tersebut sama dengan 10, lebih dari 10 atau lebih kecil dari 10!"
   ]
  },
  {
   "cell_type": "code",
   "execution_count": 37,
   "metadata": {},
   "outputs": [
    {
     "name": "stdout",
     "output_type": "stream",
     "text": [
      "Input sebuah bilangan : 12\n",
      "Lebih dari 10\n"
     ]
    }
   ],
   "source": [
    "a = int(input(\"Input sebuah bilangan : \"))\n",
    "print(\"Kurang dari 10\") if a<10 else print(\"Sama dengan 10\") if a==10 else print(\"Lebih dari 10\") "
   ]
  },
  {
   "cell_type": "markdown",
   "metadata": {},
   "source": [
    "2. Buatlah program untuk mengklasifikasikan Body Mass Index (BMI) yaitu:\n",
    "    * BMI < 18.5 terlalu kurus\n",
    "    * 18.5 <= BMI <= 25 normal\n",
    "    * 25 < BMI <= 30 kelebihan berat badan\n",
    "    * BMI > 30 obesitas\n",
    "    \n",
    "    Terlebih dahulu mintalah pengguna memasukkan data berat badan (dalam kg) dan tinggi badan (dalam cm), kemudian hitunglah BMI = berat badan (dalam kg) / tinggi badan (dalam m) ** 2"
   ]
  },
  {
   "cell_type": "code",
   "execution_count": 38,
   "metadata": {},
   "outputs": [
    {
     "name": "stdout",
     "output_type": "stream",
     "text": [
      "Input berat badan dalam kg :75\n",
      "Input berat badan dalam cm : 170\n",
      "BMI anda :  25.95155709342561\n",
      "Kelebihan berat badan\n"
     ]
    }
   ],
   "source": [
    "a = int(input(\"Input berat badan dalam kg :\"))\n",
    "b = int(input(\"Input berat badan dalam cm : \"))\n",
    "bmi = a/(b/100)**2\n",
    "print(\"BMI anda : \",bmi)\n",
    "if bmi < 18.5 :\n",
    "    print(\"Terlalu kurus\")\n",
    "elif bmi >= 18.5 and bmi <=25 :\n",
    "    print(\"Normal\")\n",
    "elif bmi > 25 and bmi <=30:\n",
    "    print(\"Kelebihan berat badan\")\n",
    "else : \n",
    "    print(\"Obesitas\")"
   ]
  },
  {
   "cell_type": "markdown",
   "metadata": {},
   "source": [
    "3. Buatlah program untuk menentukan apakah suatu bilangan bulat positif yang dimasukkan merupakan bilangan genap atau ganjil!"
   ]
  },
  {
   "cell_type": "code",
   "execution_count": 49,
   "metadata": {},
   "outputs": [
    {
     "name": "stdout",
     "output_type": "stream",
     "text": [
      "Input sebuah bilangan : 5\n",
      "ganjil\n"
     ]
    }
   ],
   "source": [
    "a = int(input(\"Input sebuah bilangan : \"))\n",
    "print(\"genap\") if a%2==0 else print(\"ganjil\")"
   ]
  },
  {
   "cell_type": "markdown",
   "metadata": {},
   "source": [
    "4. Buatlah program yang meminta pengguna untuk memasukkan suatu bilangan bulat positif di bawah 20, kemudian tampilkan hitung mundur dari 20 sampai bilangan tersebut! (4a. Gunawan While; 4b. Gunakan For)"
   ]
  },
  {
   "cell_type": "code",
   "execution_count": 47,
   "metadata": {},
   "outputs": [
    {
     "name": "stdout",
     "output_type": "stream",
     "text": [
      "Input sebuah bilangan : 10\n",
      "20\n",
      "19\n",
      "18\n",
      "17\n",
      "16\n",
      "15\n",
      "14\n",
      "13\n",
      "12\n",
      "11\n",
      "10\n"
     ]
    }
   ],
   "source": [
    "## 4a Menggunakan While\n",
    "a = int(input(\"Input sebuah bilangan : \"))\n",
    "b=20\n",
    "while ((a-1) !=b and a<20 and a >=0) : \n",
    "    print(b)\n",
    "    b=b-1"
   ]
  },
  {
   "cell_type": "code",
   "execution_count": 48,
   "metadata": {},
   "outputs": [
    {
     "name": "stdout",
     "output_type": "stream",
     "text": [
      "Input sebuah bilangan : 10\n",
      "20\n",
      "19\n",
      "18\n",
      "17\n",
      "16\n",
      "15\n",
      "14\n",
      "13\n",
      "12\n",
      "11\n",
      "10\n"
     ]
    }
   ],
   "source": [
    "## 4b Menggunakan loop\n",
    "a = int(input(\"Input sebuah bilangan : \"))\n",
    "b=20\n",
    "if a<20 and a >=0 :\n",
    "    for i in range(b,(a-1),-1):\n",
    "        print(i)"
   ]
  },
  {
   "cell_type": "markdown",
   "metadata": {},
   "source": [
    "5. Jika terdapat deretan angka[11,12,13,14,15,16,17,18,19,20]\n",
    "\n",
    "   Lakukan iterasi terhadap list angka tersebut dan tampilkan dilayar apakah angka tersebut ganjil atau genap\n",
    "   \n",
    "   **Hasil yang diinginkan adalah :**\\\n",
    "   Angka 11 adalah Ganjil\\\n",
    "   Angka 12 adalah Genap\\\n",
    "Angka 13 adalah Ganjil\\\n",
    "Angka 14 adalah Genap\\\n",
    "Angka 15 adalah Ganjil\\\n",
    "Angka 16 adalah Genap\\\n",
    "Angka 17 adalah Ganjil\\\n",
    "Angka 18 adalah Genap\\\n",
    "Angka 19 adalah Ganjil\\\n",
    "Angka 20 adalah Genap\n",
    "   \n",
    "    Buatlah program untuk menampilkan hasil yang diinginkan"
   ]
  },
  {
   "cell_type": "code",
   "execution_count": 43,
   "metadata": {},
   "outputs": [
    {
     "name": "stdout",
     "output_type": "stream",
     "text": [
      "Angka 11 adalah Ganjil\n",
      "Angka 12 adalah genap\n",
      "Angka 13 adalah Ganjil\n",
      "Angka 14 adalah genap\n",
      "Angka 15 adalah Ganjil\n",
      "Angka 16 adalah genap\n",
      "Angka 17 adalah Ganjil\n",
      "Angka 18 adalah genap\n",
      "Angka 19 adalah Ganjil\n",
      "Angka 20 adalah genap\n"
     ]
    }
   ],
   "source": [
    "angka=[11,12,13,14,15,16,17,18,19,20]\n",
    "for i in angka :\n",
    "    print(\"Angka\", i ,\"adalah genap\") if i%2==0 else print(\"Angka\", i ,\"adalah Ganjil\")"
   ]
  },
  {
   "cell_type": "markdown",
   "metadata": {},
   "source": [
    "6. Jika terdapat deretan angka  sebagai berikut : angka[11,12,13,14,15,16,17,18,19,20]\n",
    "\n",
    "   Tampilkan hanya ditampilkan bilangan ganjil saja\n",
    "\n",
    "   **Hasil yang diinginkan adalah:**\\\n",
    "   Saat ini posisi pada bilangan ganjil =  11\\\n",
    "   Saat ini posisi pada bilangan ganjil =  13\\\n",
    "   Saat ini posisi pada bilangan ganjil =  15\\\n",
    "   Saat ini posisi pada bilangan ganjil =  17\\\n",
    "   Saat ini posisi pada bilangan ganjil =  19\n",
    "\n",
    "   **Petunjuk: gunakan continue jika diperoleh angka genap**"
   ]
  },
  {
   "cell_type": "code",
   "execution_count": 42,
   "metadata": {},
   "outputs": [
    {
     "name": "stdout",
     "output_type": "stream",
     "text": [
      "Saat ini posisi pada bilangan ganjil = 11\n",
      "Saat ini posisi pada bilangan ganjil = 13\n",
      "Saat ini posisi pada bilangan ganjil = 15\n",
      "Saat ini posisi pada bilangan ganjil = 17\n",
      "Saat ini posisi pada bilangan ganjil = 19\n"
     ]
    }
   ],
   "source": [
    "angka=[11,12,13,14,15,16,17,18,19,20]\n",
    "for i in angka :\n",
    "    if i%2!=0 : print(\"Saat ini posisi pada bilangan ganjil =\",i)\n",
    "    else : continue"
   ]
  },
  {
   "cell_type": "markdown",
   "metadata": {},
   "source": [
    "7. Contoh program permainan menebak 3x bilangan antara 0 sampai 9. Di sini digunakan perintah break untuk keluar dari perulangan. \n",
    "    \n",
    "    **Petunjuk:**\n",
    "    \n",
    "    a. Gunakan random untuk mengenerate angka 0 sampai 9\\\n",
    "    b. Jika tebakan lebih kecil dari bilangan random yang dihasilkan tampilkan pesan (\"Tebakanmu terlalu kecil\")\\\n",
    "    c. Jika tebakan lebih besar dari bilangan random yang dihasilkan tampilkan pesan (\"Tebakanmu terlalu besar\")\\\n",
    "    d. Jika tebakan sama dengan bilangan random tampilkan pesan (\"Tebakanmu benar\") dan keluar dari program (gunakan break)\n",
    "    e. Jika sampai tiga kali bilangan random tidak berhasil ditebak maka tampilkan pesan (\"Maaf, anda kalah\")\n",
    "    "
   ]
  },
  {
   "cell_type": "code",
   "execution_count": 41,
   "metadata": {},
   "outputs": [
    {
     "name": "stdout",
     "output_type": "stream",
     "text": [
      "================================================\n",
      " Permainan tebak bilangan 0 - 9\n",
      "================================================\n",
      "Input sebuah bilangan : 3\n",
      "Tebakan terlalu kecil\n",
      "Input sebuah bilangan : 5\n",
      "Tebakan terlalu besar\n",
      "Input sebuah bilangan : 1\n",
      "Tebakan terlalu kecil\n",
      "Maaf, Anda kalah\n"
     ]
    }
   ],
   "source": [
    "import random\n",
    "bil = random.randint(0,9)\n",
    "n = 0\n",
    "print(\"================================================\")\n",
    "print(\" Permainan tebak bilangan 0 - 9\")\n",
    "print(\"================================================\")\n",
    "while n<=2 :\n",
    "    a = int(input(\"Input sebuah bilangan : \"))\n",
    "    if a<bil : \n",
    "        print(\"Tebakan terlalu kecil\")  \n",
    "    elif a==bil : \n",
    "        print(\"Tebakan kamu benar\") \n",
    "        break \n",
    "    else : \n",
    "        print(\"Tebakan terlalu besar\")       \n",
    "    n=n+1\n",
    "    if n == 3 :\n",
    "        print(\"Maaf, Anda kalah\")\n",
    "        break\n",
    "        \n",
    "    "
   ]
  },
  {
   "cell_type": "markdown",
   "metadata": {},
   "source": [
    "\n",
    "8. Buatlah program untuk memasukan 5 bilangan antara 0 sampai 10, kemudian urutkanlah bilangan tersebut dari yang terkecil ke yang terbesar!"
   ]
  },
  {
   "cell_type": "code",
   "execution_count": 40,
   "metadata": {},
   "outputs": [
    {
     "name": "stdout",
     "output_type": "stream",
     "text": [
      "Input sebuah bilangan : 5\n",
      "Input sebuah bilangan : 2\n",
      "Input sebuah bilangan : 31\n",
      "Input sebuah bilangan : 3\n",
      "Input sebuah bilangan : 4\n",
      "[2, 3, 4, 5, 31]\n"
     ]
    }
   ],
   "source": [
    "myList=[]\n",
    "for i in range(5):\n",
    "    a = int(input(\"Input sebuah bilangan : \"))\n",
    "    myList.append(a)\n",
    "myList.sort()\n",
    "print(myList)"
   ]
  },
  {
   "cell_type": "markdown",
   "metadata": {},
   "source": [
    "  9. Buatlah program untuk menghitung: 1 + 4 + 9 + 16 + ... + n ** 2 \\\n",
    "     Banyaknya nilai n diinputkan\n",
    "  \n",
    "  "
   ]
  },
  {
   "cell_type": "code",
   "execution_count": 39,
   "metadata": {},
   "outputs": [
    {
     "name": "stdout",
     "output_type": "stream",
     "text": [
      "Masukan banyaknya bilangan yang akan di kuadratkan : 6\n",
      "1 + 4 + 9 + 16 + 25 + 36 = 91\n"
     ]
    }
   ],
   "source": [
    "n=int(input(\"Masukan banyaknya bilangan yang akan di kuadratkan : \"))\n",
    "a = 0\n",
    "for i in range(n) :\n",
    "    a=a+(i+1)**2\n",
    "    if i == (n-1) : \n",
    "        print((i+1)**2, end= ' ')\n",
    "        break;\n",
    "    print((i+1)**2, \"+\", end =' ')\n",
    "print(\"=\",a)\n",
    "    \n"
   ]
  },
  {
   "cell_type": "markdown",
   "metadata": {},
   "source": [
    "  10. Buatlah program untuk melakukan pengecekan bilangan prima\n",
    "\n",
    "      Bilangan dimulai dari 10 sd 20\n",
    "      Tampilkan \"Bilangan prima\" jika bilangan tersebut adalah prima\\\n",
    "      Bilangan prima adalah bilangan asli yang lebih besar dari 1,  yang faktor pembaginya merupakan 1 dan bilangan itu sendri.\\\n",
    "      jika bukan prima maka tampilan hasil bahwa bilangan tersebut merupakan hasil perkalian dari bilangan dua bilangan      faktorialnya a * b\n",
    "      \n",
    "      Hasil yang diinginkan \n",
    "      \n",
    "      11 adalah bilangan prima\\\n",
    "      12 sama dengan 2 * 6\\\n",
    "      13 adalah bilangan prima\\\n",
    "      14 sama dengan 2 * 7\\\n",
    "      15 sama dengan 3 * 5\\\n",
    "16 sama dengan 2 * 8\\\n",
    "17 adalah bilangan prima\\\n",
    "18 sama dengan 2 * 9\\\n",
    "19 adalah bilangan prima"
   ]
  },
  {
   "cell_type": "code",
   "execution_count": 36,
   "metadata": {},
   "outputs": [
    {
     "name": "stdout",
     "output_type": "stream",
     "text": [
      "10 sama dengan 2 * 5\n",
      "11 adalah bilangan prima\n",
      "12 sama dengan 2 * 6\n",
      "13 adalah bilangan prima\n",
      "14 sama dengan 2 * 7\n",
      "15 sama dengan 3 * 5\n",
      "16 sama dengan 2 * 8\n",
      "17 adalah bilangan prima\n",
      "18 sama dengan 2 * 9\n",
      "19 adalah bilangan prima\n"
     ]
    }
   ],
   "source": [
    "flag = False\n",
    "for i in range(10,20,1) :\n",
    "    for j in range(1, i + 1):\n",
    "        if i % j == 0 :\n",
    "            flag = True\n",
    "            if j == 2 :\n",
    "                print(i,\"sama dengan\", 2, \"*\",int((i/2)))\n",
    "                flag = False\n",
    "                break;\n",
    "            elif j == 3 :\n",
    "                print(i,\"sama dengan\", 3, \"*\",int((i/3)))\n",
    "                flag = False\n",
    "                break;\n",
    "    if flag :\n",
    "        print(i,\"adalah bilangan prima\")"
   ]
  },
  {
   "cell_type": "code",
   "execution_count": null,
   "metadata": {},
   "outputs": [],
   "source": []
  }
 ],
 "metadata": {
  "kernelspec": {
   "display_name": "Python 3 (ipykernel)",
   "language": "python",
   "name": "python3"
  },
  "language_info": {
   "codemirror_mode": {
    "name": "ipython",
    "version": 3
   },
   "file_extension": ".py",
   "mimetype": "text/x-python",
   "name": "python",
   "nbconvert_exporter": "python",
   "pygments_lexer": "ipython3",
   "version": "3.9.13"
  },
  "vscode": {
   "interpreter": {
    "hash": "c757b53a6bb4285008c858dd98d22ea99305c5864764df2cdba35edcf036e3c8"
   }
  }
 },
 "nbformat": 4,
 "nbformat_minor": 4
}

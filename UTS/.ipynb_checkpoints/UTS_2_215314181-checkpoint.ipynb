{
 "cells": [
  {
   "cell_type": "code",
   "execution_count": 11,
   "id": "9118df12",
   "metadata": {},
   "outputs": [
    {
     "name": "stdout",
     "output_type": "stream",
     "text": [
      "Masukan usia tamu (Blank/ spasi untuk selesai) :61\n",
      "Masukan usia tamu (Blank/ spasi untuk selesai) :66\n",
      "Masukan usia tamu (Blank/ spasi untuk selesai) :30\n",
      "Masukan usia tamu (Blank/ spasi untuk selesai) :45\n",
      "Masukan usia tamu (Blank/ spasi untuk selesai) :2\n",
      "Masukan usia tamu (Blank/ spasi untuk selesai) :3\n",
      "Masukan usia tamu (Blank/ spasi untuk selesai) :10\n",
      "Masukan usia tamu (Blank/ spasi untuk selesai) :9\n",
      "Masukan usia tamu (Blank/ spasi untuk selesai) :\n",
      "Total biaya masuk untuk kelompok ini adalah Rp.235000.00\n"
     ]
    }
   ],
   "source": [
    "agelist = []\n",
    "while True :\n",
    "    temp = input(\"Masukan usia tamu (Blank/ spasi untuk selesai) :\")\n",
    "    if temp == \" \" or temp == \"\" :\n",
    "        break\n",
    "    agelist.append(int(temp))\n",
    "\n",
    "ticket = 0\n",
    "for i in agelist : \n",
    "    if i <= 3:\n",
    "        ticket += 0\n",
    "    elif i > 3 and i <=12 :\n",
    "        ticket += 25000\n",
    "    elif i > 60 :\n",
    "        ticket += 30000\n",
    "    else :\n",
    "        ticket += 50000\n",
    "\n",
    "print(f\"Total biaya masuk untuk kelompok ini adalah Rp.{ticket:.2f}\")\n",
    "               "
   ]
  },
  {
   "cell_type": "code",
   "execution_count": null,
   "id": "a5c6b4b8",
   "metadata": {},
   "outputs": [],
   "source": []
  },
  {
   "cell_type": "code",
   "execution_count": null,
   "id": "fe34f605",
   "metadata": {},
   "outputs": [],
   "source": []
  }
 ],
 "metadata": {
  "kernelspec": {
   "display_name": "Python 3 (ipykernel)",
   "language": "python",
   "name": "python3"
  },
  "language_info": {
   "codemirror_mode": {
    "name": "ipython",
    "version": 3
   },
   "file_extension": ".py",
   "mimetype": "text/x-python",
   "name": "python",
   "nbconvert_exporter": "python",
   "pygments_lexer": "ipython3",
   "version": "3.9.13"
  }
 },
 "nbformat": 4,
 "nbformat_minor": 5
}

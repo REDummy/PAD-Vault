{
 "cells": [
  {
   "cell_type": "code",
   "execution_count": 7,
   "id": "52c2c89d",
   "metadata": {},
   "outputs": [
    {
     "name": "stdout",
     "output_type": "stream",
     "text": [
      "59 sendok teh = 1 gelas, 3 sendok makan, 2 sendok teh\n",
      "95 sendok teh = 1 gelas, 15 sendok makan, 2 sendok teh\n",
      "1 sendok makan = 1 sendok makan\n",
      "100 sendok teh = 2 gelas, 1 sendok makan, 1 sendok teh\n",
      "4 gelas = 4 gelas\n"
     ]
    }
   ],
   "source": [
    "def penguranganSatuan(jumlah, satuan):\n",
    "    if satuan == \"gelas\":\n",
    "        gelas = jumlah\n",
    "        return f\"{jumlah} {satuan} = {gelas} gelas\"\n",
    "    elif satuan == \"sendok makan\":\n",
    "        sdm = jumlah\n",
    "        return f\"{jumlah} {satuan} = {sdm} sendok makan\"\n",
    "    elif satuan == \"sendok teh\":\n",
    "        gelas = jumlah // 48 # 1 gelas = 16 sdm = 48 sendok teh\n",
    "        sdm = (jumlah % 48) // 3 # 1 sendok makan = 3 sendok teh\n",
    "        sdt = jumlah % 3\n",
    "        \n",
    "        result = []\n",
    "        if gelas > 0:\n",
    "            result.append(f\"{gelas} gelas\")\n",
    "        if sdm > 0:\n",
    "            result.append(f\"{sdm} sendok makan\")\n",
    "        if sdt > 0:\n",
    "            result.append(f\"{sdt} sendok teh\")\n",
    "        \n",
    "        return f\"{jumlah} {satuan} = {', '.join(result)}\"\n",
    "    else:\n",
    "        return \"Satuan yang diberikan tidak valid.\"\n",
    "\n",
    "print(penguranganSatuan(59, \"sendok teh\")) \n",
    "print(penguranganSatuan(95, \"sendok teh\")) \n",
    "print(penguranganSatuan(1, \"sendok makan\")) \n",
    "print(penguranganSatuan(100, \"sendok teh\")) \n",
    "print(penguranganSatuan(4, \"gelas\"))\n"
   ]
  },
  {
   "cell_type": "code",
   "execution_count": null,
   "id": "4720efdf",
   "metadata": {},
   "outputs": [],
   "source": []
  }
 ],
 "metadata": {
  "kernelspec": {
   "display_name": "Python 3 (ipykernel)",
   "language": "python",
   "name": "python3"
  },
  "language_info": {
   "codemirror_mode": {
    "name": "ipython",
    "version": 3
   },
   "file_extension": ".py",
   "mimetype": "text/x-python",
   "name": "python",
   "nbconvert_exporter": "python",
   "pygments_lexer": "ipython3",
   "version": "3.9.13"
  }
 },
 "nbformat": 4,
 "nbformat_minor": 5
}

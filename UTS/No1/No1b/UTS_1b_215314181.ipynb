{
 "cells": [
  {
   "cell_type": "code",
   "execution_count": 1,
   "id": "4cf0d164",
   "metadata": {},
   "outputs": [
    {
     "name": "stdout",
     "output_type": "stream",
     "text": [
      "Masukan Kalimat String : saya sedang belajar python di kampus sadhar\n",
      "20\n"
     ]
    }
   ],
   "source": [
    "temp = input(\"Masukan Kalimat String : \")\n",
    "char = set(temp)\n",
    "print(len(char))"
   ]
  },
  {
   "cell_type": "code",
   "execution_count": null,
   "id": "0c87b898",
   "metadata": {},
   "outputs": [],
   "source": []
  }
 ],
 "metadata": {
  "kernelspec": {
   "display_name": "Python 3 (ipykernel)",
   "language": "python",
   "name": "python3"
  },
  "language_info": {
   "codemirror_mode": {
    "name": "ipython",
    "version": 3
   },
   "file_extension": ".py",
   "mimetype": "text/x-python",
   "name": "python",
   "nbconvert_exporter": "python",
   "pygments_lexer": "ipython3",
   "version": "3.9.13"
  }
 },
 "nbformat": 4,
 "nbformat_minor": 5
}

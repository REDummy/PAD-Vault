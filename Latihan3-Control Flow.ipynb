{
 "cells": [
  {
   "cell_type": "markdown",
   "metadata": {},
   "source": [
    "# Latihan 3 - Kondisi dan Perulangan\n",
    "\n",
    "## NIM     : \n",
    "\n",
    "## NAMA :\n"
   ]
  },
  {
   "cell_type": "markdown",
   "metadata": {},
   "source": [
    "1. Buatlah program untuk memasukkan sebuah bilangan, kemudian tampilkan pesan apakah bilangan tersebut sama dengan 10, lebih dari 10 atau lebih kecil dari 10!"
   ]
  },
  {
   "cell_type": "code",
   "execution_count": null,
   "metadata": {},
   "outputs": [],
   "source": []
  },
  {
   "cell_type": "markdown",
   "metadata": {},
   "source": [
    "2. Buatlah program untuk mengklasifikasikan Body Mass Index (BMI) yaitu:\n",
    "    * BMI < 18.5 terlalu kurus\n",
    "    * 18.5 <= BMI <= 25 normal\n",
    "    * 25 < BMI <= 30 kelebihan berat badan\n",
    "    * BMI > 30 obesitas\n",
    "    \n",
    "    Terlebih dahulu mintalah pengguna memasukkan data berat badan (dalam kg) dan tinggi badan (dalam cm), kemudian hitunglah BMI = berat badan (dalam kg) / tinggi badan (dalam m) ** 2"
   ]
  },
  {
   "cell_type": "code",
   "execution_count": null,
   "metadata": {},
   "outputs": [],
   "source": []
  },
  {
   "cell_type": "markdown",
   "metadata": {},
   "source": [
    "3. Buatlah program untuk menentukan apakah suatu bilangan bulat positif yang dimasukkan merupakan bilangan genap atau ganjil!"
   ]
  },
  {
   "cell_type": "code",
   "execution_count": null,
   "metadata": {},
   "outputs": [],
   "source": []
  },
  {
   "cell_type": "markdown",
   "metadata": {},
   "source": [
    "4. Buatlah program yang meminta pengguna untuk memasukkan suatu bilangan bulat positif di bawah 20, kemudian tampilkan hitung mundur dari 20 sampai bilangan tersebut! (4a. Gunawan While; 4b. Gunakan For)"
   ]
  },
  {
   "cell_type": "code",
   "execution_count": null,
   "metadata": {},
   "outputs": [],
   "source": [
    "## 4a Menggunakan While"
   ]
  },
  {
   "cell_type": "code",
   "execution_count": null,
   "metadata": {},
   "outputs": [],
   "source": [
    "## 4b Menggunakan loop"
   ]
  },
  {
   "cell_type": "markdown",
   "metadata": {},
   "source": [
    "5. Jika terdapat deretan angka[11,12,13,14,15,16,17,18,19,20]\n",
    "\n",
    "   Lakukan iterasi terhadap list angka tersebut dan tampilkan dilayar apakah angka tersebut ganjil atau genap\n",
    "   \n",
    "   **Hasil yang diinginkan adalah :**\\\n",
    "   Angka 11 adalah Ganjil\\\n",
    "   Angka 12 adalah Genap\\\n",
    "Angka 13 adalah Ganjil\\\n",
    "Angka 14 adalah Genap\\\n",
    "Angka 15 adalah Ganjil\\\n",
    "Angka 16 adalah Genap\\\n",
    "Angka 17 adalah Ganjil\\\n",
    "Angka 18 adalah Genap\\\n",
    "Angka 19 adalah Ganjil\\\n",
    "Angka 20 adalah Genap\n",
    "   \n",
    "    Buatlah program untuk menampilkan hasil yang diinginkan"
   ]
  },
  {
   "cell_type": "code",
   "execution_count": null,
   "metadata": {},
   "outputs": [],
   "source": [
    "angka=[11,12,13,14,15,16,17,18,19,20]\n"
   ]
  },
  {
   "cell_type": "markdown",
   "metadata": {},
   "source": [
    "6. Jika terdapat deretan angka  sebagai berikut : angka[11,12,13,14,15,16,17,18,19,20]\n",
    "\n",
    "   Tampilkan hanya ditampilkan bilangan ganjil saja\n",
    "\n",
    "   **Hasil yang diinginkan adalah:**\\\n",
    "   Saat ini posisi pada bilangan ganjil =  11\\\n",
    "   Saat ini posisi pada bilangan ganjil =  13\\\n",
    "   Saat ini posisi pada bilangan ganjil =  15\\\n",
    "   Saat ini posisi pada bilangan ganjil =  17\\\n",
    "   Saat ini posisi pada bilangan ganjil =  19\n",
    "\n",
    "   **Petunjuk: gunakan continue jika diperoleh angka genap**"
   ]
  },
  {
   "cell_type": "code",
   "execution_count": null,
   "metadata": {},
   "outputs": [],
   "source": [
    "angka=[11,12,13,14,15,16,17,18,19,20]\n"
   ]
  },
  {
   "cell_type": "markdown",
   "metadata": {},
   "source": [
    "7. Contoh program permainan menebak 3x bilangan antara 0 sampai 9. Di sini digunakan perintah break untuk keluar dari perulangan. \n",
    "    \n",
    "    **Petunjuk:**\n",
    "    \n",
    "    a. Gunakan random untuk mengenerate angka 0 sampai 9\\\n",
    "    b. Jika tebakan lebih kecil dari bilangan random yang dihasilkan tampilkan pesan (\"Tebakanmu terlalu kecil\")\\\n",
    "    c. Jika tebakan lebih besar dari bilangan random yang dihasilkan tampilkan pesan (\"Tebakanmu terlalu besar\")\\\n",
    "    d. Jika tebakan sama dengan bilangan random tampilkan pesan (\"Tebakanmu benar\") dan keluar dari program (gunakan break)\n",
    "    e. Jika sampai tiga kali bilangan random tidak berhasil ditebak maka tampilkan pesan (\"Maaf, anda kalah\")\n",
    "    "
   ]
  },
  {
   "cell_type": "code",
   "execution_count": 1,
   "metadata": {},
   "outputs": [
    {
     "name": "stdout",
     "output_type": "stream",
     "text": [
      "================================================\n",
      " Permainan tebak bilangan 0 - 9\n",
      "================================================\n"
     ]
    }
   ],
   "source": [
    "import random\n",
    "bil = random.randint(0,9)\n",
    "n = 0\n",
    "print(\"================================================\")\n",
    "print(\" Permainan tebak bilangan 0 - 9\")\n",
    "print(\"================================================\")\n",
    "\n"
   ]
  },
  {
   "cell_type": "markdown",
   "metadata": {},
   "source": [
    "   8. Buatlah program untuk memasukan 5 bilangan antara 0 sampai 10, kemudian urutkanlah bilangan tersebut dari yang terkecil ke yang terbesar!"
   ]
  },
  {
   "cell_type": "code",
   "execution_count": null,
   "metadata": {},
   "outputs": [],
   "source": []
  },
  {
   "cell_type": "markdown",
   "metadata": {},
   "source": [
    "  9. Buatlah program untuk menghitung: 1 + 4 + 9 + 16 + ... + n ** 2 \\\n",
    "     Banyaknya nilai n diinputkan\n",
    "  \n",
    "  "
   ]
  },
  {
   "cell_type": "code",
   "execution_count": null,
   "metadata": {},
   "outputs": [],
   "source": [
    "n=int(input(\"Masukan banyaknya bilangan yang akan di kuadratkan : \"))\n",
    "\n"
   ]
  },
  {
   "cell_type": "markdown",
   "metadata": {},
   "source": [
    "  10. Buatlah program untuk melakukan pengecekan bilangan prima\n",
    "\n",
    "      Bilangan dimulai dari 10 sd 20\n",
    "      Tampilkan \"Bilangan prima\" jika bilangan tersebut adalah prima\\\n",
    "      Bilangan prima adalah bilangan asli yang lebih besar dari 1,  yang faktor pembaginya merupakan 1 dan bilangan itu sendri.\\\n",
    "      jika bukan prima maka tampilan hasil bahwa bilangan tersebut merupakan hasil perkalian dari bilangan dua bilangan      faktorialnya a * b\n",
    "      \n",
    "      Hasil yang diinginkan \n",
    "      \n",
    "      11 adalah bilangan prima\\\n",
    "      12 sama dengan 2 * 6\\\n",
    "      13 adalah bilangan prima\\\n",
    "      14 sama dengan 2 * 7\\\n",
    "      15 sama dengan 3 * 5\\\n",
    "16 sama dengan 2 * 8\\\n",
    "17 adalah bilangan prima\\\n",
    "18 sama dengan 2 * 9\\\n",
    "19 adalah bilangan prima"
   ]
  },
  {
   "cell_type": "code",
   "execution_count": null,
   "metadata": {},
   "outputs": [],
   "source": []
  }
 ],
 "metadata": {
  "kernelspec": {
   "display_name": "Python 3 (ipykernel)",
   "language": "python",
   "name": "python3"
  },
  "language_info": {
   "codemirror_mode": {
    "name": "ipython",
    "version": 3
   },
   "file_extension": ".py",
   "mimetype": "text/x-python",
   "name": "python",
   "nbconvert_exporter": "python",
   "pygments_lexer": "ipython3",
   "version": "3.9.12"
  }
 },
 "nbformat": 4,
 "nbformat_minor": 4
}

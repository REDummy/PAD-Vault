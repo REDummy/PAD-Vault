{
 "cells": [
  {
   "cell_type": "code",
   "execution_count": 1,
   "id": "46e5eef5",
   "metadata": {},
   "outputs": [],
   "source": [
    "# Open the input and output files\n",
    "with open(\"cities.txt\", \"r\") as infile, open(\"cities_growth.txt\", \"w\") as outfile:\n",
    "    # Read the input file line by line\n",
    "    cities = []\n",
    "    for line in infile:\n",
    "        # Extract the city name, state, and population data\n",
    "        name, state, pop2000, pop2010 = line.strip().split(\",\")\n",
    "        # Calculate the population growth percentage\n",
    "        growth = (float(pop2010) - float(pop2000)) / float(pop2000) * 100\n",
    "        # Add the city and its growth percentage to a list\n",
    "        cities.append((name, growth))\n",
    "    \n",
    "    # Sort the list in descending order based on the growth percentage\n",
    "    cities.sort(key=lambda x: x[1], reverse=True)\n",
    "    \n",
    "    # Write the sorted list to the output file\n",
    "    for city in cities:\n",
    "        outfile.write(f\"{city[0]},{city[1]:.2f}%\\n\")\n"
   ]
  },
  {
   "cell_type": "code",
   "execution_count": null,
   "id": "e5739779",
   "metadata": {},
   "outputs": [],
   "source": []
  }
 ],
 "metadata": {
  "kernelspec": {
   "display_name": "Python 3 (ipykernel)",
   "language": "python",
   "name": "python3"
  },
  "language_info": {
   "codemirror_mode": {
    "name": "ipython",
    "version": 3
   },
   "file_extension": ".py",
   "mimetype": "text/x-python",
   "name": "python",
   "nbconvert_exporter": "python",
   "pygments_lexer": "ipython3",
   "version": "3.9.13"
  }
 },
 "nbformat": 4,
 "nbformat_minor": 5
}

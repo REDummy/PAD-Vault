{
 "cells": [
  {
   "cell_type": "markdown",
   "metadata": {},
   "source": [
    "# Latihan 4: Fungsi\n",
    "### NIM : 215314181\n",
    "### NAMA : Antonius Miquel Aureliano"
   ]
  },
  {
   "cell_type": "markdown",
   "metadata": {},
   "source": [
    "1. Buatlah fungsi untuk menghitung luas persegi panjang dengan memasukkan variabel panjang dan lebar dan menghasilkan luaran berupa luas!"
   ]
  },
  {
   "cell_type": "code",
   "execution_count": 4,
   "metadata": {},
   "outputs": [
    {
     "name": "stdout",
     "output_type": "stream",
     "text": [
      "Masukan Panjang : 1\n",
      "Masukan Lebar : 2\n",
      "Luas peregi panjang dengan panjang 1 cm dan lebar 2 cm adalah 2cm^2 \n"
     ]
    }
   ],
   "source": [
    "# Definisi method luasPP dengan param p dan l\n",
    "def luasPP(p,l):\n",
    "    \n",
    "    # Menyimpan hasil dari p kali l ke luas lalu mengembalikan nilai luas\n",
    "    luas = p*l\n",
    "    return luas\n",
    "\n",
    "# Input nilai panjang dan lebar\n",
    "p=int(input(\"Masukan Panjang : \"))\n",
    "l=int(input(\"Masukan Lebar : \"))\n",
    "\n",
    "# Menyimpan hasil method luasPP dengan param p dan l ke luas\n",
    "luas = luasPP(p,l)\n",
    "# Cetak nilai p,l, dan luas\n",
    "print(\"Luas peregi panjang dengan panjang {} cm dan lebar {} cm adalah {}cm^2 \".format(p,l,luas))"
   ]
  },
  {
   "cell_type": "markdown",
   "metadata": {},
   "source": [
    "2. Buatlah fungsi untuk menampilkan suku ke-n dari barisan Fibbonacci: 1, 1, 2, 3, 5, 8, 13, ...!"
   ]
  },
  {
   "cell_type": "code",
   "execution_count": 14,
   "metadata": {},
   "outputs": [
    {
     "name": "stdout",
     "output_type": "stream",
     "text": [
      "Masukan suku ke  : 8\n",
      "suku ke 8 dari barisan fibonacci adalah 21\n"
     ]
    }
   ],
   "source": [
    "# Definisi method fibo dengan param n\n",
    "def fibo(n) :\n",
    "    # Assign nilai 1 ke variable a dan b\n",
    "    a=1\n",
    "    b=1\n",
    "    # Jika nilai n sama dengan 1 atau 2\n",
    "    # Kembalikan 1\n",
    "    if n == 1 or n==2 :\n",
    "        return 1\n",
    "    #looping selama nilai n-2 tidak 0\n",
    "        # simpan jumlah a dan b ke c \n",
    "        # ubah nilai a dengan b dan nilai b dengan c\n",
    "        # decrement nilai n\n",
    "    # kembalikan nilai c \n",
    "    while((n-2) > 0) :\n",
    "        c=a+b\n",
    "        a=b\n",
    "        b=c\n",
    "        n=n-1\n",
    "    return c\n",
    "\n",
    "n=int(input(\"Masukan suku ke  : \"))\n",
    "c=fibo(n)\n",
    "print(\"suku ke {} dari barisan fibonacci adalah {}\".format(n,c))\n",
    "        \n"
   ]
  },
  {
   "cell_type": "markdown",
   "metadata": {},
   "source": [
    "3. Buatlah fungsi untuk menampilkan jumlah n-suku pertama bilangan asli!"
   ]
  },
  {
   "cell_type": "code",
   "execution_count": 21,
   "metadata": {},
   "outputs": [
    {
     "name": "stdout",
     "output_type": "stream",
     "text": [
      "Masukan n suku: 6\n",
      "1 2 3 4 5 6 "
     ]
    }
   ],
   "source": [
    "# definisi method bilAsli dengan param n\n",
    "def bilAsli(n):\n",
    "    \n",
    "    #looping mulai dari 1 hingga n+1 dengan increments 1\n",
    "        #cetak nilai i\n",
    "    for i in range(1,n+1,1):\n",
    "        print(i, end = \" \")\n",
    "        \n",
    "n=int(input(\"Masukan n suku: \"))\n",
    "bilAsli(n)\n",
    "    \n",
    "    "
   ]
  },
  {
   "cell_type": "markdown",
   "metadata": {},
   "source": [
    "4. Buatlah program yang meminta pengguna memilih menu sebagai berikut:\n",
    "    1. luas lingkaran (phi*r^2)\n",
    "    2. keliling lingkaran (2* phi * r)\n",
    "   \n",
    "   Di dalam program itu buatlah fungsi untuk menghitung luas lingkaran dan keliling lingkaran!"
   ]
  },
  {
   "cell_type": "code",
   "execution_count": 11,
   "metadata": {},
   "outputs": [
    {
     "name": "stdout",
     "output_type": "stream",
     "text": [
      "Apakah anda ingin menghitung Keliling atau Luas : l\n",
      "Masukan nilai jari jari : 7\n",
      "hasil dari opsi yang anda pilih adalah : 153.93804002589985\n"
     ]
    }
   ],
   "source": [
    "# import nilai pi dari library Math\n",
    "from math import pi\n",
    "\n",
    "#definisi method ling dengan var prompt, retries bernilai 4 dan reminder dengan isi text \"silahkan coba lagi\"\n",
    "def ling(prompt, retries=4, reminder='Silahkan coba lagi'):\n",
    "    # looping selama true\n",
    "    while True:\n",
    "        # simpan input dari prompt ke ok\n",
    "        # simpan input ke r\n",
    "        ok = input(prompt)\n",
    "        r = int(input(\"Masukan nilai jari jari : \"))\n",
    "        # jika ok merupakan anggota dari list \n",
    "        # kembalian nilai dari luas dengan rumus pi kali r pangkat 2\n",
    "        if ok in ('l','luas','L','Luas','LUAS'):\n",
    "            return pi*r**2\n",
    "        # jika ok merupakan anggota dari list \n",
    "        # kembalian nilai dari keliling dengan rumus 2 kali pi kali r\n",
    "        if ok in ('k', 'kel', 'keliling','K','Kel','Keliling','KELILING'):\n",
    "            return 2*pi*r\n",
    "        #decrement retries\n",
    "        retries = retries - 1\n",
    "        # jika retries bernilai negatif\n",
    "        # raise error invalid user response\n",
    "        if retries < 0:\n",
    "            raise ValueError('invalid user response')\n",
    "        #cetak var reminder\n",
    "        print(reminder)\n",
    "\n",
    "temp = ling(\"Apakah anda ingin menghitung Keliling atau Luas : \")\n",
    "print(\"hasil dari opsi yang anda pilih adalah :\", temp)"
   ]
  },
  {
   "cell_type": "markdown",
   "metadata": {},
   "source": [
    "5. Buatlah sebuah fungsi yang dapat memberikan nilai TRUE jika dapat menemukan kata \"pyhton\"\n",
    "\n",
    "   Contoh kalimat : \"Ternyata belajar pyhton di USD sangat menyenangkan\". Kalimat juga dapat berubah-ubah"
   ]
  },
  {
   "cell_type": "code",
   "execution_count": 15,
   "metadata": {},
   "outputs": [
    {
     "name": "stdout",
     "output_type": "stream",
     "text": [
      "Masukan text : ernyata belajar pyhton di USD sangat menyenangkan\n"
     ]
    },
    {
     "data": {
      "text/plain": [
       "True"
      ]
     },
     "execution_count": 15,
     "metadata": {},
     "output_type": "execute_result"
    }
   ],
   "source": [
    "# definisi method test dengan param var text\n",
    "def test(text) : \n",
    "    #jika ada str \"pyhton\" dalam text\n",
    "    #return true \n",
    "    # jika tidak, return false\n",
    "    if \"pyhton\" in text :\n",
    "        return True\n",
    "    else : \n",
    "        return False\n",
    "    \n",
    "text = input(\"Masukan text : \")\n",
    "test(text)"
   ]
  },
  {
   "cell_type": "markdown",
   "metadata": {},
   "source": [
    "6. Buatlah program yang meminta pengguna memasukkan sejumlah data berupa bilangan dan buatlah **fungsi sendiri** untuk menghitung rata-rata, nilai maksimum, nilai minimum dan standar deviasi dari kumpulan data tersebut!"
   ]
  },
  {
   "cell_type": "code",
   "execution_count": 5,
   "metadata": {},
   "outputs": [
    {
     "name": "stdout",
     "output_type": "stream",
     "text": [
      "6.0\n",
      "11\n",
      "1\n",
      "3.4156502553198664\n"
     ]
    }
   ],
   "source": [
    "# import akar pangkat 2\n",
    "from math import sqrt\n",
    "\n",
    "#definisi method my_avg dengan parameter sebuah list\n",
    "def my_avg(list) : \n",
    "    # mengembalikan hasil dari jumlah seluruh item dalam list dibagi dengan panjang list\n",
    "    return sum(list)/len(list)\n",
    "\n",
    "#definisi method my_max dengan parameter sebuah list\n",
    "def my_max(list) : \n",
    "    # deklarasi var max_value \n",
    "    max_value = None\n",
    "    #looping sebanyak jumlah item di list\n",
    "    for value in list:\n",
    "        #jika bukan max_value, maka set value ke max_value\n",
    "        if not max_value:\n",
    "            max_value = value\n",
    "        #jika nilai value lebih besar dari max_value, ganti nilai max_value dengan value    \n",
    "        elif value > max_value:\n",
    "            max_value = value\n",
    "    #kembalikan nilai max_value\n",
    "    return max_value\n",
    "\n",
    "#definisi method my_avg dengan parameter sebuah list    \n",
    "def my_min(list):\n",
    "    min_value = None\n",
    "    for value in list:\n",
    "        #jika bukan min_value, maka set value ke min_value\n",
    "        if not min_value:\n",
    "            min_value = value\n",
    "        #jika nilai value lebih kecil dari min_value, ganti nilai min_value dengan value    \n",
    "        elif value < min_value:\n",
    "            min_value = value\n",
    "    return min_value\n",
    "\n",
    "#definisi method my_avg dengan parameter sebuah list\n",
    "def my_std(list) :\n",
    "    #deklarasi var temp dengan nilai 0, n dengan panjang list, dan myu dengan hasil dari method my_avg dengan param list\n",
    "    temp = 0\n",
    "    n = len(list)\n",
    "    myu = my_avg(list)\n",
    "    # looping sebanyak item di list\n",
    "    for i in list :\n",
    "        #simpan hasil kuadrat item ke i dikurangi myu yang di bagi 2 ke temp \n",
    "        temp = temp + ((i-myu)**2/n)\n",
    "    #kembalikan nilai akar pangkat 2 dari temp\n",
    "    return sqrt(temp)\n",
    "\n",
    "#deklarasi list    \n",
    "list = [1, 3, 5, 7, 9, 11]\n",
    "# cetak hasil dari semua method pada cell ini\n",
    "print(my_avg(list))\n",
    "print(my_max(list))\n",
    "print(my_min(list))\n",
    "print(my_std(list))"
   ]
  },
  {
   "cell_type": "markdown",
   "metadata": {},
   "source": [
    "7. Buatlah Fungsi rekursif untuk :\n",
    "        a. Menghitung nilai X^n\n",
    "        b. Menghitung X!\n",
    "        c. Nlai bilangan Fibonancci ke n\n",
    "        d. Menghitung nilai a * b"
   ]
  },
  {
   "cell_type": "code",
   "execution_count": 18,
   "metadata": {},
   "outputs": [
    {
     "name": "stdout",
     "output_type": "stream",
     "text": [
      "Masukan nilai X : 9\n",
      "Masukan nilai n : 9\n",
      "Nilai dari 9 pangkat 9 adalah 387420489\n"
     ]
    }
   ],
   "source": [
    "#7a.\n",
    "# Definisi fungsi pow dengan param X dan n \n",
    "def pow(X,n):\n",
    "    \n",
    "        \n",
    "        # Check jika n sama dengan 1\n",
    "        # Kembalikan nilai X\n",
    "        if(n==1):\n",
    "            return X        \n",
    "        # Check jika n sama dengan 1\n",
    "        # Kembalikan nilai X\n",
    "        elif(n==0):\n",
    "            return 1        \n",
    "\n",
    "        # jika tidak memenuhi semua kriteria\n",
    "        # kembalikan nilai X dikali nilai dari method pow dengan param X dan n-1\n",
    "        else:\n",
    "            return(X*pow(X,n-1))\n",
    "        \n",
    "# Input nilai X dan n        \n",
    "x = int(input(\"Masukan nilai X : \"))\n",
    "n = int(input(\"Masukan nilai n : \"))\n",
    "\n",
    "# Cetak nilai X, n dan hasil dari method pow dengan param x dan n\n",
    "print(\"Nilai dari {} pangkat {} adalah {}\".format(x,n,pow(x,n)))"
   ]
  },
  {
   "cell_type": "code",
   "execution_count": 17,
   "metadata": {},
   "outputs": [
    {
     "name": "stdout",
     "output_type": "stream",
     "text": [
      "Masukan nilai n : 9\n",
      "Nilai dari 9 factorial adalah 362880\n"
     ]
    }
   ],
   "source": [
    "#7b\n",
    "#definisi method fact dengan param n\n",
    "def fact(n):\n",
    "    # check nilai n sama dengan 1\n",
    "    # kembalikan nilai n\n",
    "    if n == 1:\n",
    "        return n\n",
    "    # jika tidak memenuhi kriteria\n",
    "    # kembalikan nilai n dikali hasil dari method fact dengan param n-1 \n",
    "    else:\n",
    "        return n*fact(n-1)\n",
    "    \n",
    "n = int(input(\"Masukan nilai n : \"))\n",
    "print(\"Nilai dari {} factorial adalah {}\".format(n,fact(n)))"
   ]
  },
  {
   "cell_type": "code",
   "execution_count": 1,
   "metadata": {},
   "outputs": [
    {
     "name": "stdout",
     "output_type": "stream",
     "text": [
      "Masukan nilai n : 9\n",
      "suku ke 9 dari barisan fibonacci adalah 34\n"
     ]
    }
   ],
   "source": [
    "#7c\n",
    "#definisi fungsi fibo_rec dengan param n\n",
    "def fibo_rec(n):\n",
    "   \n",
    "    # Check n kurang dri 0,\n",
    "    # Cetak Incorrect input\n",
    "    if n < 0:\n",
    "        print(\"Incorrect input\")\n",
    " \n",
    "    # Check n sama dengan 0\n",
    "    # Kembalikan 0\n",
    "    elif n == 0:\n",
    "        return 0\n",
    " \n",
    "    # Check jika n sama dengan 1 atau 2\n",
    "    # maka akan kembalikan 1\n",
    "    elif n in(1,2) :\n",
    "        return 1\n",
    " \n",
    "    # jika tidak memenuhi semua kriteria diatas\n",
    "    # kembalikan jumlah method fibo_rec dengan param n-1 dan n-2\n",
    "    else:\n",
    "        return fibo_rec(n-1) + fibo_rec(n-2)\n",
    "\n",
    "n = int(input(\"Masukan nilai n : \"))    \n",
    "print(\"suku ke {} dari barisan fibonacci adalah {}\".format(n,fibo_rec(n)))"
   ]
  },
  {
   "cell_type": "code",
   "execution_count": 3,
   "metadata": {},
   "outputs": [
    {
     "name": "stdout",
     "output_type": "stream",
     "text": [
      "Nilai dari 0 kali 0 adalah 0\n"
     ]
    }
   ],
   "source": [
    "#7d\n",
    "# definisi method times dengan param a dan b\n",
    "def times(a,b): \n",
    "    \n",
    "    # Check a atau b sama dengan 0\n",
    "    # kembalikan nilai 0\n",
    "    if(a==0 or b==0):\n",
    "        return 0        \n",
    "    # Check b sama dengan 1\n",
    "    # kembalikan nilai a\n",
    "    if(b==1):\n",
    "        return a        \n",
    "    # Jika tidak memenuhi semua kriteria\n",
    "    #kembalikan nilai a ditambah nilai dari method times dengan parameter a dan b-1\n",
    "    else:\n",
    "        return(a+times(a,b-1))\n",
    "    \n",
    "a = int(input(\"Masukan nilai a : \"))\n",
    "b = int(input(\"Masukan nilai b : \"))\n",
    "print(\"Nilai dari {} kali {} adalah {}\".format(a,b,times(a,b)))    "
   ]
  },
  {
   "cell_type": "code",
   "execution_count": null,
   "metadata": {},
   "outputs": [],
   "source": []
  },
  {
   "cell_type": "code",
   "execution_count": null,
   "metadata": {},
   "outputs": [],
   "source": []
  }
 ],
 "metadata": {
  "kernelspec": {
   "display_name": "Python 3 (ipykernel)",
   "language": "python",
   "name": "python3"
  },
  "language_info": {
   "codemirror_mode": {
    "name": "ipython",
    "version": 3
   },
   "file_extension": ".py",
   "mimetype": "text/x-python",
   "name": "python",
   "nbconvert_exporter": "python",
   "pygments_lexer": "ipython3",
   "version": "3.9.13"
  }
 },
 "nbformat": 4,
 "nbformat_minor": 4
}

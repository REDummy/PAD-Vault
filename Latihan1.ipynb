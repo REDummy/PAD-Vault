{
 "cells": [
  {
   "cell_type": "markdown",
   "metadata": {},
   "source": [
    "# Latihan 1"
   ]
  },
  {
   "cell_type": "markdown",
   "metadata": {},
   "source": [
    "1. Tuliskan program yang menampilkan nama dan alamat lengkap Anda di baris berikutnya!"
   ]
  },
  {
   "cell_type": "code",
   "execution_count": null,
   "metadata": {},
   "outputs": [],
   "source": []
  },
  {
   "cell_type": "markdown",
   "metadata": {},
   "source": [
    "2. Tentukan luaran dari program berikut terlebih dahulu sebelum mengetikkannya dalam Python! \n",
    "   Kemudian periksalah luaran dari Python apakah sama dengan perkiraanmu! Pelajarilah apabila terjadi perbedaan!\n",
    "       x = input(\"masukkan suatu bilangan: \")\n",
    "       y = 3\n",
    "       z = \"2\"\n",
    "       print(x + y)\n",
    "       print(int(x) + y)\n",
    "       print(x * y)\n",
    "       print(int(x) * y)\n",
    "       print(x + z)\n",
    "       print(int(x + z))\n",
    "       print(int(x) + int(z))\n",
    "       print(x * z)"
   ]
  },
  {
   "cell_type": "code",
   "execution_count": null,
   "metadata": {},
   "outputs": [],
   "source": []
  },
  {
   "cell_type": "markdown",
   "metadata": {},
   "source": [
    "3. Buatlah program dengan memasukkan panjang dan lebar ruangan kelas dan kemudian menampilkan luas ruangan!"
   ]
  },
  {
   "cell_type": "code",
   "execution_count": null,
   "metadata": {},
   "outputs": [],
   "source": []
  },
  {
   "cell_type": "markdown",
   "metadata": {},
   "source": [
    "4. Buatlah program yang memasukkan nama dan umur Anda tahun ini ke dalam variabel, kemudian tampilkan pesan:\n",
    "        Tahun depan [nama] akan berumur [umur di tahun depan]"
   ]
  },
  {
   "cell_type": "code",
   "execution_count": null,
   "metadata": {},
   "outputs": [],
   "source": []
  },
  {
   "cell_type": "markdown",
   "metadata": {},
   "source": [
    "5. Tentukan luaran dari operasi hitung berikut:\n",
    "        a. 7 + 3 * 5\n",
    "        b. 5.5 * 6 // 2 + 8\n",
    "        c. -3 ** 2\n",
    "        d. 50 * 2 + (60 - 20) / 4"
   ]
  },
  {
   "cell_type": "code",
   "execution_count": null,
   "metadata": {},
   "outputs": [],
   "source": []
  },
  {
   "cell_type": "markdown",
   "metadata": {},
   "source": [
    "6. Tentukan luaran dari petikan program ini:\n",
    "        bil1 = input(\"Masukkan bilangan pertama: \")\n",
    "        bil2 = input(\"Masukkan bilangan kedua: \")\n",
    "        print(\"Jumlah kedua bilangan: \", bil1 + bil2)"
   ]
  },
  {
   "cell_type": "code",
   "execution_count": null,
   "metadata": {},
   "outputs": [],
   "source": []
  },
  {
   "cell_type": "markdown",
   "metadata": {},
   "source": [
    "7. Perbaikilah program di atas sehingga luarannya menjadi benar!"
   ]
  },
  {
   "cell_type": "code",
   "execution_count": null,
   "metadata": {},
   "outputs": [],
   "source": []
  },
  {
   "cell_type": "markdown",
   "metadata": {},
   "source": [
    "8. Buatlah program untuk menghitung BMI(Body Mass Index) dengan meminta user memasukkan data berat badan(dalam kg) \n",
    "   dan tinggi badan(dalam cm)! \n",
    "        BMI = berat(dalam kg) / (tinggi(dalam meter) ** 2)  \n",
    "   Tampilkan pesan \n",
    "       Orang dengan berat [...] kg dan tinggi [...] cm mempunyai BMI [...]."
   ]
  },
  {
   "cell_type": "code",
   "execution_count": null,
   "metadata": {},
   "outputs": [],
   "source": []
  },
  {
   "cell_type": "markdown",
   "metadata": {},
   "source": [
    "9. Buatlah program yang menanyakan umurmu saat ini, umur berapa kamu akan pensiun dan menampilkan pesan\n",
    "        Kamu akan pensiun di tahun [...] yaitu [...] tahun dari sekarang."
   ]
  },
  {
   "cell_type": "code",
   "execution_count": null,
   "metadata": {},
   "outputs": [],
   "source": []
  },
  {
   "cell_type": "markdown",
   "metadata": {},
   "source": [
    "10. Buatlah program memasukkan bilangan pertama dan kedua, kemudian tampilkan sebagai berikut:\n",
    "        [...] (+, - , *, /) [...] = [...]"
   ]
  },
  {
   "cell_type": "code",
   "execution_count": null,
   "metadata": {},
   "outputs": [],
   "source": []
  }
 ],
 "metadata": {
  "kernelspec": {
   "display_name": "Python 3",
   "language": "python",
   "name": "python3"
  },
  "language_info": {
   "codemirror_mode": {
    "name": "ipython",
    "version": 3
   },
   "file_extension": ".py",
   "mimetype": "text/x-python",
   "name": "python",
   "nbconvert_exporter": "python",
   "pygments_lexer": "ipython3",
   "version": "3.8.5"
  }
 },
 "nbformat": 4,
 "nbformat_minor": 4
}

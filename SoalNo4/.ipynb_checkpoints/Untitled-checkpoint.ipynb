{
 "cells": [
  {
   "cell_type": "code",
   "execution_count": 27,
   "id": "dd81edd6",
   "metadata": {},
   "outputs": [],
   "source": [
    "#4a       \n"
   ]
  },
  {
   "cell_type": "code",
   "execution_count": 35,
   "id": "d33ba86a",
   "metadata": {},
   "outputs": [
    {
     "data": {
      "text/plain": [
       "{'Angus King,Maine,Independent',\n",
       " 'Chris Van Hollen,Maryland,Democratic',\n",
       " 'Dianne Feinstein,California,Democratic',\n",
       " 'Dick Durbin,Illinois,Democratic',\n",
       " 'Susan Collins,Maine,Republican',\n",
       " 'Todd Young,Indiana,Republican',\n",
       " 'Tom Cotton,Arkansas,Republican'}"
      ]
     },
     "execution_count": 35,
     "metadata": {},
     "output_type": "execute_result"
    }
   ],
   "source": [
    "#add retired senator to a list                \n",
    "with open('RetiredSen.txt', 'r') as remove_file:\n",
    "    lines_to_remove = set(remove_file.read().splitlines())\n",
    "                \n",
    "\n",
    "lines_to_remove        "
   ]
  },
  {
   "cell_type": "code",
   "execution_count": 36,
   "id": "bd4590a1",
   "metadata": {},
   "outputs": [],
   "source": [
    "#duplicate senate113 to senate 114 while removing retired senator\n",
    "with open(\"Senate113.txt\", \"r\") as readFile:\n",
    "    with open(\"Senate114.txt\", \"w\") as writeFile:\n",
    "        # iterate all lines from file\n",
    "        for line in readFile:\n",
    "            # if text matches then don't write it\n",
    "            if line.strip(\"\\n\") not in lines_to_remove:\n",
    "                writeFile.write(line)\n"
   ]
  },
  {
   "cell_type": "code",
   "execution_count": 37,
   "id": "29f47586",
   "metadata": {},
   "outputs": [],
   "source": [
    "#appended new senator to senate 114\n",
    "with open('Senate114.txt', 'a') as readFile, open('NewSen.txt', 'r') as writeFile:\n",
    "    readFile.write(writeFile.read())\n",
    "        "
   ]
  },
  {
   "cell_type": "code",
   "execution_count": 40,
   "id": "459553e0",
   "metadata": {},
   "outputs": [
    {
     "name": "stdout",
     "output_type": "stream",
     "text": [
      "Party Affiliation :\n",
      "   Republican :  22\n",
      "   Democratic :  21\n",
      "   Independent :  0\n"
     ]
    }
   ],
   "source": [
    "#4b\n",
    "def countParty():\n",
    "    file = open(\"Senate114.txt\", \"r\")\n",
    "    data = file.read()\n",
    "    nRep = data.count(\"Republican\")\n",
    "    nDem = data.count(\"Democratic\")\n",
    "    nInd = data.count(\"Independent\")\n",
    "    print(\"Party Affiliation :\")\n",
    "    print(\"   Republican : \",nRep)\n",
    "    print(\"   Democratic : \",nDem)\n",
    "    print(\"   Independent : \",nInd)\n",
    "    file.close()\n",
    "    \n",
    "countParty()"
   ]
  },
  {
   "cell_type": "code",
   "execution_count": 43,
   "id": "6e2e3127",
   "metadata": {},
   "outputs": [],
   "source": [
    "#4c \n",
    "with open('Senate114.txt', 'r') as input:\n",
    "    senator = {}\n",
    "    senator = set(input.read().split(','))\n"
   ]
  },
  {
   "cell_type": "code",
   "execution_count": null,
   "id": "0e52c95b",
   "metadata": {},
   "outputs": [],
   "source": []
  }
 ],
 "metadata": {
  "kernelspec": {
   "display_name": "Python 3 (ipykernel)",
   "language": "python",
   "name": "python3"
  },
  "language_info": {
   "codemirror_mode": {
    "name": "ipython",
    "version": 3
   },
   "file_extension": ".py",
   "mimetype": "text/x-python",
   "name": "python",
   "nbconvert_exporter": "python",
   "pygments_lexer": "ipython3",
   "version": "3.9.13"
  }
 },
 "nbformat": 4,
 "nbformat_minor": 5
}

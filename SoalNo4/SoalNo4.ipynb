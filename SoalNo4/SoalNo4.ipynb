{
 "cells": [
  {
   "cell_type": "markdown",
   "id": "28bc2ccf",
   "metadata": {},
   "source": [
    "#4a       \n"
   ]
  },
  {
   "cell_type": "code",
   "execution_count": 1,
   "id": "b5b96d2d",
   "metadata": {},
   "outputs": [
    {
     "data": {
      "text/plain": [
       "{'Angus King,Maine,Independent',\n",
       " 'Chris Van Hollen,Maryland,Democratic',\n",
       " 'Dianne Feinstein,California,Democratic',\n",
       " 'Dick Durbin,Illinois,Democratic',\n",
       " 'Susan Collins,Maine,Republican',\n",
       " 'Todd Young,Indiana,Republican',\n",
       " 'Tom Cotton,Arkansas,Republican'}"
      ]
     },
     "execution_count": 1,
     "metadata": {},
     "output_type": "execute_result"
    }
   ],
   "source": [
    "#add retired senator to a list                \n",
    "with open('RetiredSen.txt', 'r') as remove_file:\n",
    "    lines_to_remove = set(remove_file.read().splitlines())\n",
    "                \n",
    "\n",
    "lines_to_remove        "
   ]
  },
  {
   "cell_type": "code",
   "execution_count": 2,
   "id": "524c02b2",
   "metadata": {},
   "outputs": [],
   "source": [
    "#duplicate senate113 to senate 114 while removing retired senator\n",
    "with open(\"Senate113.txt\", \"r\") as readFile:\n",
    "    with open(\"Senate114.txt\", \"w\") as writeFile:\n",
    "        # iterate all lines from file\n",
    "        for line in readFile:\n",
    "            # if text matches then don't write it\n",
    "            if line.strip(\"\\n\") not in lines_to_remove:\n",
    "                writeFile.write(line)\n"
   ]
  },
  {
   "cell_type": "code",
   "execution_count": 3,
   "id": "aa7e5255",
   "metadata": {},
   "outputs": [],
   "source": [
    "#appended new senator to senate 114\n",
    "with open('Senate114.txt', 'a') as readFile, open('NewSen.txt', 'r') as writeFile:\n",
    "    readFile.write(writeFile.read())\n",
    "        "
   ]
  },
  {
   "cell_type": "code",
   "execution_count": 4,
   "id": "97a1f61a",
   "metadata": {},
   "outputs": [],
   "source": [
    "#4b\n",
    "#Open file as read and count items using count function\n",
    "def countParty():\n",
    "    with open(\"Senate114.txt\", \"r\") as readFile :\n",
    "        data = readFile.read()\n",
    "        nRep = data.count(\"Republican\")\n",
    "        nDem = data.count(\"Democratic\")\n",
    "        nInd = data.count(\"Independent\")\n",
    "        print(\"Party Affiliation :\")\n",
    "        print(\"   Republican : \",nRep)\n",
    "        print(\"   Democratic : \",nDem)\n",
    "        print(\"   Independent : \",nInd)\n",
    "        \n"
   ]
  },
  {
   "cell_type": "code",
   "execution_count": 5,
   "id": "2de76ce6",
   "metadata": {},
   "outputs": [
    {
     "name": "stdout",
     "output_type": "stream",
     "text": [
      "Party Affiliation :\n",
      "   Republican :  22\n",
      "   Democratic :  21\n",
      "   Independent :  0\n"
     ]
    }
   ],
   "source": [
    "countParty()\n"
   ]
  },
  {
   "cell_type": "code",
   "execution_count": 6,
   "id": "a5d7965f",
   "metadata": {},
   "outputs": [],
   "source": [
    "#4c \n",
    "#Create Object with 3 attributes\n",
    "class MyObject:\n",
    "    def __init__(self, attr1, attr2, attr3):\n",
    "        self.attr1 = attr1\n",
    "        self.attr2 = attr2\n",
    "        self.attr3 = attr3\n",
    "\n",
    "objects_list = []\n",
    "\n",
    "#Open file as read and create object with split lines as attributes\n",
    "with open('Senate114.txt', 'r') as file_obj:\n",
    "    for line in file_obj:\n",
    "        values = line.strip().split(',')\n",
    "        my_obj = MyObject(values[0], values[1], values[2])\n",
    "        #Add object to a list\n",
    "        objects_list.append(my_obj)\n"
   ]
  },
  {
   "cell_type": "code",
   "execution_count": 7,
   "id": "599db12c",
   "metadata": {},
   "outputs": [],
   "source": [
    "def countStateParty():\n",
    "    count = 0\n",
    "    #Compare attributes between 2 objects\n",
    "    for i in range(len(objects_list)):\n",
    "        for j in range(i+1, len(objects_list)):\n",
    "            if objects_list[i].attr2 == objects_list[j].attr2 and objects_list[i].attr3 == objects_list[j].attr3:\n",
    "                count += 1\n",
    "                \n",
    "    print(f\"{count} objects have the same attr2 and attr3.\")\n"
   ]
  },
  {
   "cell_type": "code",
   "execution_count": 8,
   "id": "6c77eea1",
   "metadata": {},
   "outputs": [
    {
     "name": "stdout",
     "output_type": "stream",
     "text": [
      "19 objects have the same attr2 and attr3.\n"
     ]
    }
   ],
   "source": [
    "countStateParty()"
   ]
  },
  {
   "cell_type": "code",
   "execution_count": 9,
   "id": "62b27d5d",
   "metadata": {},
   "outputs": [],
   "source": [
    "#Check for every object wheter they have same attr2 with input\n",
    "def searchSenate():\n",
    "    user_input = input(\"Enter text: \")\n",
    "\n",
    "    for obj in objects_list:\n",
    "        if obj.attr2 == user_input:\n",
    "            print(obj.attr1)"
   ]
  },
  {
   "cell_type": "code",
   "execution_count": 11,
   "id": "a0bd6f55",
   "metadata": {},
   "outputs": [
    {
     "name": "stdout",
     "output_type": "stream",
     "text": [
      "Mike Crapo\n",
      "Jim Risch\n"
     ]
    }
   ],
   "source": [
    "searchSenate()"
   ]
  },
  {
   "cell_type": "code",
   "execution_count": null,
   "id": "661ad727",
   "metadata": {},
   "outputs": [],
   "source": []
  }
 ],
 "metadata": {
  "kernelspec": {
   "display_name": "Python 3 (ipykernel)",
   "language": "python",
   "name": "python3"
  },
  "language_info": {
   "codemirror_mode": {
    "name": "ipython",
    "version": 3
   },
   "file_extension": ".py",
   "mimetype": "text/x-python",
   "name": "python",
   "nbconvert_exporter": "python",
   "pygments_lexer": "ipython3",
   "version": "3.11.2"
  }
 },
 "nbformat": 4,
 "nbformat_minor": 5
}

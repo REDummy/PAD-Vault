{
 "cells": [
  {
   "cell_type": "code",
   "execution_count": 2,
   "id": "5eb42214",
   "metadata": {},
   "outputs": [
    {
     "name": "stdout",
     "output_type": "stream",
     "text": [
      "ini di script utama\n",
      "ini Script sub dari subPackage\n"
     ]
    }
   ],
   "source": [
    "from PackageUtama import script_utama \n",
    "from PackageUtama.SubPackage.script_sub import cetak_sub\n",
    "\n",
    "script_utama.cetak_utama()\n",
    "cetak_sub()"
   ]
  },
  {
   "cell_type": "code",
   "execution_count": null,
   "id": "1e671a46",
   "metadata": {},
   "outputs": [],
   "source": []
  }
 ],
 "metadata": {
  "kernelspec": {
   "display_name": "Python 3 (ipykernel)",
   "language": "python",
   "name": "python3"
  },
  "language_info": {
   "codemirror_mode": {
    "name": "ipython",
    "version": 3
   },
   "file_extension": ".py",
   "mimetype": "text/x-python",
   "name": "python",
   "nbconvert_exporter": "python",
   "pygments_lexer": "ipython3",
   "version": "3.9.13"
  }
 },
 "nbformat": 4,
 "nbformat_minor": 5
}

{
 "cells": [
  {
   "cell_type": "markdown",
   "id": "be3c803e",
   "metadata": {},
   "source": [
    "## Test ##\n"
   ]
  },
  {
   "cell_type": "code",
   "execution_count": null,
   "id": "1e671a46",
   "metadata": {},
   "outputs": [],
   "source": [
    "from PackageUtama.script_utama import cetak_utama\n",
    "from PackageUtama.SubPackage.script_sub import cetak_sub\n",
    "\n",
    "cetak_utama()\n",
    "cetak_sub()"
   ]
  }
 ],
 "metadata": {
  "kernelspec": {
   "display_name": "Python 3 (ipykernel)",
   "language": "python",
   "name": "python3"
  },
  "language_info": {
   "codemirror_mode": {
    "name": "ipython",
    "version": 3
   },
   "file_extension": ".py",
   "mimetype": "text/x-python",
   "name": "python",
   "nbconvert_exporter": "python",
   "pygments_lexer": "ipython3",
   "version": "3.9.13"
  }
 },
 "nbformat": 4,
 "nbformat_minor": 5
}

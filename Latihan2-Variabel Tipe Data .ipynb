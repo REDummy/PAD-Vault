{
 "cells": [
  {
   "cell_type": "markdown",
   "metadata": {},
   "source": [
    "# Latihan 2\n",
    "\n",
    "## NIM     : \n",
    "\n",
    "## NAMA :"
   ]
  },
  {
   "cell_type": "markdown",
   "metadata": {},
   "source": [
    "1. Buatlah sebuah variabel, beri nama sayuran. Simpanlah \"kangkung\" ke dalam varibel sayuran tersebut dan tampilkan "
   ]
  },
  {
   "cell_type": "code",
   "execution_count": null,
   "metadata": {},
   "outputs": [],
   "source": []
  },
  {
   "cell_type": "markdown",
   "metadata": {},
   "source": [
    "2. Dapatkah anda mencetak (print) isi dari setiap variabel berikut : \n",
    "\n",
    "    a. 01_alamat = 'Paingan' \n",
    "    \n",
    "    b. TAHUN = 2023\n",
    "    \n",
    "    c. kode_matakuliah = 'INF106'\n",
    "    \n",
    "    d. tahun-lahir = 1972\n",
    "   \n",
    "   Berikan penjelasan singkat ! Jika tidak dapat di print berikan perubahannya agar dapat di'print'\n",
    "    "
   ]
  },
  {
   "cell_type": "code",
   "execution_count": null,
   "metadata": {},
   "outputs": [],
   "source": [
    "#2a\n",
    "01_alamat='Paingan'\n",
    "print(01_alamat)\n",
    "\n",
    "## Penjelasan :\n",
    "\n",
    "\n",
    "## Perubahan (jika tidak dapat dicetak)"
   ]
  },
  {
   "cell_type": "code",
   "execution_count": null,
   "metadata": {},
   "outputs": [],
   "source": [
    "#2b\n"
   ]
  },
  {
   "cell_type": "code",
   "execution_count": null,
   "metadata": {},
   "outputs": [],
   "source": [
    "#2c"
   ]
  },
  {
   "cell_type": "code",
   "execution_count": null,
   "metadata": {},
   "outputs": [],
   "source": [
    "#2d"
   ]
  },
  {
   "cell_type": "markdown",
   "metadata": {},
   "source": [
    "3. Buatlah variabel-variabel berikut dan tampilkan tipe data dari setiap variabel:\n",
    "        a. variabel1 = 123\n",
    "        b. variabel2 = \"123\"\n",
    "        c. variabel3= 123.456"
   ]
  },
  {
   "cell_type": "code",
   "execution_count": null,
   "metadata": {},
   "outputs": [],
   "source": [
    "## Varibel1\n",
    "\n",
    "## Variabel2\n",
    "\n",
    "## variabel3\n"
   ]
  },
  {
   "cell_type": "markdown",
   "metadata": {},
   "source": [
    "4. Lakukan konversi dan tampilkan hasilnya (value dan tipe data)\n",
    "       a. Convert float ke integer \n",
    "            varibel4 = 27.6\n",
    "       b. Convert string ke integer\n",
    "            variabel5=\"50000\""
   ]
  },
  {
   "cell_type": "code",
   "execution_count": null,
   "metadata": {},
   "outputs": [],
   "source": []
  },
  {
   "cell_type": "markdown",
   "metadata": {},
   "source": [
    "5. Gunakan arithmetic operators untuk menyelesaikan :\n",
    "        a. 10 + 100\n",
    "        b. ((27*2)+50) ** 0.5\n",
    "        c. Modulus dari 35 / 6\n",
    "        "
   ]
  },
  {
   "cell_type": "code",
   "execution_count": null,
   "metadata": {},
   "outputs": [],
   "source": []
  },
  {
   "cell_type": "markdown",
   "metadata": {},
   "source": [
    "6. Gunakan logical operator, dan evaluasi setiap statement (TRUE/FALSE) \n",
    "        a. x=200 \n",
    "           print(x> 4 or x < 300)\n",
    "           TRUE/FALSE\n",
    "        b. 3!=4 and 3 < 4 \n",
    "           TRUE/FALSE           \n",
    "        c. x=200\n",
    "           print(not(x>4 or x < 300))\n",
    "           TRUE/FALSE"
   ]
  },
  {
   "cell_type": "code",
   "execution_count": null,
   "metadata": {},
   "outputs": [],
   "source": []
  },
  {
   "cell_type": "markdown",
   "metadata": {},
   "source": [
    "7. Gunakan identity operator, evaluasi setiap statement (TRUE/FALSE)\n",
    "        a.  x = 300         \n",
    "            y = 700\n",
    "            z = y\n",
    "            print(z is y)\n",
    "            TRUE/FALSE     \n",
    "        b.  x = 300  \n",
    "\t        y = 700\n",
    "            z = y\n",
    "            print(x is not y)\t \n",
    "            TRUE/FALSE"
   ]
  },
  {
   "cell_type": "code",
   "execution_count": null,
   "metadata": {},
   "outputs": [],
   "source": []
  },
  {
   "cell_type": "markdown",
   "metadata": {},
   "source": [
    "8. Gunakan membership operator : \n",
    "        a. Apakah 3000 ada dalam \"3000 tahun yang lalu ?\"\n",
    "        b. Apakah \"apel\" ada dalam list [\"apel\",\"pisang\",\"jeruk\"]\n",
    "        c. \"et\" tidak ada dalam \"Let's go for a meal\" True/False     "
   ]
  },
  {
   "cell_type": "code",
   "execution_count": null,
   "metadata": {},
   "outputs": [],
   "source": []
  },
  {
   "cell_type": "markdown",
   "metadata": {},
   "source": [
    "9. Tentang LiST\n",
    "        1. Buat dan cetak sebuah list \"classList\" yang berisi 3 elemen yaitu Agus, Anna, Bella\n",
    "        2. List indexing: Cari element ketiga dalam list dan tampilkan\n",
    "        3. List slicing : Akses 2 element terakhir dalam List dan tampilkan\n",
    "        4. Tambahkan element menggunakan metode append dan extend : Lisa, Maria\n",
    "        5. Sisipkan (insert) element ke dalam list (1) setelah elememt kedua : Lisa         \n",
    "        6. Remove Anna dari list\n",
    "        7. Remove element kedua dari list menggunakan pop dan delete (dari list awal)"
   ]
  },
  {
   "cell_type": "code",
   "execution_count": null,
   "metadata": {},
   "outputs": [],
   "source": []
  },
  {
   "cell_type": "markdown",
   "metadata": {},
   "source": [
    "10. DICTIONARY\n",
    "        1. Buatlah sebuah dictionary databases yang diberi nama myClass (empty dictionary) dan tambahkan pasangan Key:Value berikut:\n",
    "        Keys    : \"Dosen\",\"Asisten\",\"Jumlah Mahasiswa\"\n",
    "        Values  : \"Rido\",[\"Charlie\",\"Yayuk\",\"Iman\"],25\n",
    "        Types   : String, list, int\n",
    "        \n",
    "        2. Tambahkan asisten ke-4 beri nama \"Laurensius\"\n",
    "        3. Jumlah mahasiswa bertambah 3 menjadi 28\n",
    "        4. Tampilkan hasil dari dictionary. hasil yang diharapkan :\n",
    "            \n",
    "           {'Dosen': 'Rido', 'Asisten': ['Charlie', 'Yayuk', 'Iman', 'Laurensius'], 'Jumlah Mahasiswa': 28}\n",
    "        \n",
    "        "
   ]
  },
  {
   "cell_type": "code",
   "execution_count": null,
   "metadata": {},
   "outputs": [],
   "source": []
  }
 ],
 "metadata": {
  "kernelspec": {
   "display_name": "Python 3 (ipykernel)",
   "language": "python",
   "name": "python3"
  },
  "language_info": {
   "codemirror_mode": {
    "name": "ipython",
    "version": 3
   },
   "file_extension": ".py",
   "mimetype": "text/x-python",
   "name": "python",
   "nbconvert_exporter": "python",
   "pygments_lexer": "ipython3",
   "version": "3.9.13"
  }
 },
 "nbformat": 4,
 "nbformat_minor": 4
}

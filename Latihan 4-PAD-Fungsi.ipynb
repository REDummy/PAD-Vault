{
 "cells": [
  {
   "cell_type": "markdown",
   "metadata": {},
   "source": [
    "# Latihan 4: Fungsi\n",
    "### NIM :\n",
    "### NAMA :"
   ]
  },
  {
   "cell_type": "markdown",
   "metadata": {},
   "source": [
    "1. Buatlah fungsi untuk menghitung luas persegi panjang dengan memasukkan variabel panjang dan lebar dan menghasilkan luaran berupa luas!"
   ]
  },
  {
   "cell_type": "code",
   "execution_count": null,
   "metadata": {},
   "outputs": [],
   "source": []
  },
  {
   "cell_type": "markdown",
   "metadata": {},
   "source": [
    "2. Buatlah fungsi untuk menampilkan suku ke-n dari barisan Fibbonacci: 1, 1, 2, 3, 5, 8, 13, ...!"
   ]
  },
  {
   "cell_type": "code",
   "execution_count": null,
   "metadata": {},
   "outputs": [],
   "source": []
  },
  {
   "cell_type": "markdown",
   "metadata": {},
   "source": [
    "3. Buatlah fungsi untuk menampilkan jumlah n-suku pertama bilangan asli!"
   ]
  },
  {
   "cell_type": "code",
   "execution_count": null,
   "metadata": {},
   "outputs": [],
   "source": []
  },
  {
   "cell_type": "markdown",
   "metadata": {},
   "source": [
    "4. Buatlah program yang meminta pengguna memilih menu sebagai berikut:\n",
    "    1. luas lingkaran (phi*r^2)\n",
    "    2. keliling lingkaran (2* phi * r)\n",
    "   \n",
    "   Di dalam program itu buatlah fungsi untuk menghitung luas lingkaran dan keliling lingkaran!"
   ]
  },
  {
   "cell_type": "code",
   "execution_count": null,
   "metadata": {},
   "outputs": [],
   "source": []
  },
  {
   "cell_type": "markdown",
   "metadata": {},
   "source": [
    "5. Buatlah sebuah fungsi yang dapat memberikan nilai TRUE jika dapat menemukan kata \"pyhton\"\n",
    "\n",
    "   Contoh kalimat : \"Ternyata belajar pyhton di USD sangat menyenangkan\". Kalimat juga dapat berubah-ubah"
   ]
  },
  {
   "cell_type": "code",
   "execution_count": null,
   "metadata": {},
   "outputs": [],
   "source": []
  },
  {
   "cell_type": "markdown",
   "metadata": {},
   "source": [
    "6. Buatlah program yang meminta pengguna memasukkan sejumlah data berupa bilangan dan buatlah **fungsi sendiri** untuk menghitung rata-rata, nilai maksimum, nilai minimum dan standar deviasi dari kumpulan data tersebut!"
   ]
  },
  {
   "cell_type": "code",
   "execution_count": null,
   "metadata": {},
   "outputs": [],
   "source": []
  },
  {
   "cell_type": "markdown",
   "metadata": {},
   "source": [
    "7. Buatlah Fungsi rekursif untuk :\n",
    "        a. Menghitung nilai X^n\n",
    "        b. Menghitung X!\n",
    "        c. Nlai bilangan Fibonancci ke n\n",
    "        d. Menghitung nilai a * b"
   ]
  },
  {
   "cell_type": "code",
   "execution_count": null,
   "metadata": {},
   "outputs": [],
   "source": [
    "#7a."
   ]
  },
  {
   "cell_type": "code",
   "execution_count": null,
   "metadata": {},
   "outputs": [],
   "source": [
    "#7b"
   ]
  },
  {
   "cell_type": "code",
   "execution_count": null,
   "metadata": {},
   "outputs": [],
   "source": [
    "#7c"
   ]
  },
  {
   "cell_type": "code",
   "execution_count": null,
   "metadata": {},
   "outputs": [],
   "source": [
    "#7d"
   ]
  }
 ],
 "metadata": {
  "kernelspec": {
   "display_name": "Python 3 (ipykernel)",
   "language": "python",
   "name": "python3"
  },
  "language_info": {
   "codemirror_mode": {
    "name": "ipython",
    "version": 3
   },
   "file_extension": ".py",
   "mimetype": "text/x-python",
   "name": "python",
   "nbconvert_exporter": "python",
   "pygments_lexer": "ipython3",
   "version": "3.9.12"
  }
 },
 "nbformat": 4,
 "nbformat_minor": 4
}
